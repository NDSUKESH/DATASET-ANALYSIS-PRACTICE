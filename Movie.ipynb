{
  "nbformat": 4,
  "nbformat_minor": 0,
  "metadata": {
    "colab": {
      "provenance": []
    },
    "kernelspec": {
      "name": "python3",
      "display_name": "Python 3"
    },
    "language_info": {
      "name": "python"
    }
  },
  "cells": [
    {
      "cell_type": "code",
      "execution_count": 121,
      "metadata": {
        "id": "ipeK6hU7tqmP"
      },
      "outputs": [],
      "source": [
        "import pandas as pd\n",
        "import numpy as np\n",
        "import matplotlib.pyplot as plt\n",
        "import seaborn as sns"
      ]
    },
    {
      "cell_type": "code",
      "source": [
        "df=pd.read_csv('/content/IMDB Top 250 Movies.csv')"
      ],
      "metadata": {
        "id": "O5vjYCdKwnoW"
      },
      "execution_count": 122,
      "outputs": []
    },
    {
      "cell_type": "code",
      "source": [
        "df.shape"
      ],
      "metadata": {
        "colab": {
          "base_uri": "https://localhost:8080/"
        },
        "id": "1meAVuObxcku",
        "outputId": "c28f2dbc-3232-4c0f-d179-a12f73bf893d"
      },
      "execution_count": 123,
      "outputs": [
        {
          "output_type": "execute_result",
          "data": {
            "text/plain": [
              "(250, 13)"
            ]
          },
          "metadata": {},
          "execution_count": 123
        }
      ]
    },
    {
      "cell_type": "code",
      "source": [
        "df.head(5)"
      ],
      "metadata": {
        "colab": {
          "base_uri": "https://localhost:8080/",
          "height": 423
        },
        "id": "91TKilY2wrXe",
        "outputId": "e6a2cf3a-d1dc-4de7-a4be-53c160ff2fbe"
      },
      "execution_count": 124,
      "outputs": [
        {
          "output_type": "execute_result",
          "data": {
            "text/plain": [
              "   rank                      name  year  rating               genre  \\\n",
              "0     1  The Shawshank Redemption  1994     9.3               Drama   \n",
              "1     2             The Godfather  1972     9.2         Crime,Drama   \n",
              "2     3           The Dark Knight  2008     9.0  Action,Crime,Drama   \n",
              "3     4     The Godfather Part II  1974     9.0         Crime,Drama   \n",
              "4     5              12 Angry Men  1957     9.0         Crime,Drama   \n",
              "\n",
              "  certificate run_time                                            tagline  \\\n",
              "0           R   2h 22m  Fear can hold you prisoner. Hope can set you f...   \n",
              "1           R   2h 55m                         An offer you can't refuse.   \n",
              "2       PG-13   2h 32m                                    Why So Serious?   \n",
              "3           R   3h 22m       All the power on earth can't change destiny.   \n",
              "4    Approved   1h 36m  Life Is In Their Hands -- Death Is On Their Mi...   \n",
              "\n",
              "      budget  box_office                                              casts  \\\n",
              "0   25000000    28884504  Tim Robbins,Morgan Freeman,Bob Gunton,William ...   \n",
              "1    6000000   250341816  Marlon Brando,Al Pacino,James Caan,Diane Keato...   \n",
              "2  185000000  1006234167  Christian Bale,Heath Ledger,Aaron Eckhart,Mich...   \n",
              "3   13000000    47961919  Al Pacino,Robert De Niro,Robert Duvall,Diane K...   \n",
              "4     350000         955  Henry Fonda,Lee J. Cobb,Martin Balsam,John Fie...   \n",
              "\n",
              "              directors                                          writers  \n",
              "0        Frank Darabont                      Stephen King,Frank Darabont  \n",
              "1  Francis Ford Coppola                  Mario Puzo,Francis Ford Coppola  \n",
              "2     Christopher Nolan  Jonathan Nolan,Christopher Nolan,David S. Goyer  \n",
              "3  Francis Ford Coppola                  Francis Ford Coppola,Mario Puzo  \n",
              "4          Sidney Lumet                                    Reginald Rose  "
            ],
            "text/html": [
              "\n",
              "  <div id=\"df-f1286134-023c-4de5-977e-a6f80c43a2f4\">\n",
              "    <div class=\"colab-df-container\">\n",
              "      <div>\n",
              "<style scoped>\n",
              "    .dataframe tbody tr th:only-of-type {\n",
              "        vertical-align: middle;\n",
              "    }\n",
              "\n",
              "    .dataframe tbody tr th {\n",
              "        vertical-align: top;\n",
              "    }\n",
              "\n",
              "    .dataframe thead th {\n",
              "        text-align: right;\n",
              "    }\n",
              "</style>\n",
              "<table border=\"1\" class=\"dataframe\">\n",
              "  <thead>\n",
              "    <tr style=\"text-align: right;\">\n",
              "      <th></th>\n",
              "      <th>rank</th>\n",
              "      <th>name</th>\n",
              "      <th>year</th>\n",
              "      <th>rating</th>\n",
              "      <th>genre</th>\n",
              "      <th>certificate</th>\n",
              "      <th>run_time</th>\n",
              "      <th>tagline</th>\n",
              "      <th>budget</th>\n",
              "      <th>box_office</th>\n",
              "      <th>casts</th>\n",
              "      <th>directors</th>\n",
              "      <th>writers</th>\n",
              "    </tr>\n",
              "  </thead>\n",
              "  <tbody>\n",
              "    <tr>\n",
              "      <th>0</th>\n",
              "      <td>1</td>\n",
              "      <td>The Shawshank Redemption</td>\n",
              "      <td>1994</td>\n",
              "      <td>9.3</td>\n",
              "      <td>Drama</td>\n",
              "      <td>R</td>\n",
              "      <td>2h 22m</td>\n",
              "      <td>Fear can hold you prisoner. Hope can set you f...</td>\n",
              "      <td>25000000</td>\n",
              "      <td>28884504</td>\n",
              "      <td>Tim Robbins,Morgan Freeman,Bob Gunton,William ...</td>\n",
              "      <td>Frank Darabont</td>\n",
              "      <td>Stephen King,Frank Darabont</td>\n",
              "    </tr>\n",
              "    <tr>\n",
              "      <th>1</th>\n",
              "      <td>2</td>\n",
              "      <td>The Godfather</td>\n",
              "      <td>1972</td>\n",
              "      <td>9.2</td>\n",
              "      <td>Crime,Drama</td>\n",
              "      <td>R</td>\n",
              "      <td>2h 55m</td>\n",
              "      <td>An offer you can't refuse.</td>\n",
              "      <td>6000000</td>\n",
              "      <td>250341816</td>\n",
              "      <td>Marlon Brando,Al Pacino,James Caan,Diane Keato...</td>\n",
              "      <td>Francis Ford Coppola</td>\n",
              "      <td>Mario Puzo,Francis Ford Coppola</td>\n",
              "    </tr>\n",
              "    <tr>\n",
              "      <th>2</th>\n",
              "      <td>3</td>\n",
              "      <td>The Dark Knight</td>\n",
              "      <td>2008</td>\n",
              "      <td>9.0</td>\n",
              "      <td>Action,Crime,Drama</td>\n",
              "      <td>PG-13</td>\n",
              "      <td>2h 32m</td>\n",
              "      <td>Why So Serious?</td>\n",
              "      <td>185000000</td>\n",
              "      <td>1006234167</td>\n",
              "      <td>Christian Bale,Heath Ledger,Aaron Eckhart,Mich...</td>\n",
              "      <td>Christopher Nolan</td>\n",
              "      <td>Jonathan Nolan,Christopher Nolan,David S. Goyer</td>\n",
              "    </tr>\n",
              "    <tr>\n",
              "      <th>3</th>\n",
              "      <td>4</td>\n",
              "      <td>The Godfather Part II</td>\n",
              "      <td>1974</td>\n",
              "      <td>9.0</td>\n",
              "      <td>Crime,Drama</td>\n",
              "      <td>R</td>\n",
              "      <td>3h 22m</td>\n",
              "      <td>All the power on earth can't change destiny.</td>\n",
              "      <td>13000000</td>\n",
              "      <td>47961919</td>\n",
              "      <td>Al Pacino,Robert De Niro,Robert Duvall,Diane K...</td>\n",
              "      <td>Francis Ford Coppola</td>\n",
              "      <td>Francis Ford Coppola,Mario Puzo</td>\n",
              "    </tr>\n",
              "    <tr>\n",
              "      <th>4</th>\n",
              "      <td>5</td>\n",
              "      <td>12 Angry Men</td>\n",
              "      <td>1957</td>\n",
              "      <td>9.0</td>\n",
              "      <td>Crime,Drama</td>\n",
              "      <td>Approved</td>\n",
              "      <td>1h 36m</td>\n",
              "      <td>Life Is In Their Hands -- Death Is On Their Mi...</td>\n",
              "      <td>350000</td>\n",
              "      <td>955</td>\n",
              "      <td>Henry Fonda,Lee J. Cobb,Martin Balsam,John Fie...</td>\n",
              "      <td>Sidney Lumet</td>\n",
              "      <td>Reginald Rose</td>\n",
              "    </tr>\n",
              "  </tbody>\n",
              "</table>\n",
              "</div>\n",
              "      <button class=\"colab-df-convert\" onclick=\"convertToInteractive('df-f1286134-023c-4de5-977e-a6f80c43a2f4')\"\n",
              "              title=\"Convert this dataframe to an interactive table.\"\n",
              "              style=\"display:none;\">\n",
              "        \n",
              "  <svg xmlns=\"http://www.w3.org/2000/svg\" height=\"24px\"viewBox=\"0 0 24 24\"\n",
              "       width=\"24px\">\n",
              "    <path d=\"M0 0h24v24H0V0z\" fill=\"none\"/>\n",
              "    <path d=\"M18.56 5.44l.94 2.06.94-2.06 2.06-.94-2.06-.94-.94-2.06-.94 2.06-2.06.94zm-11 1L8.5 8.5l.94-2.06 2.06-.94-2.06-.94L8.5 2.5l-.94 2.06-2.06.94zm10 10l.94 2.06.94-2.06 2.06-.94-2.06-.94-.94-2.06-.94 2.06-2.06.94z\"/><path d=\"M17.41 7.96l-1.37-1.37c-.4-.4-.92-.59-1.43-.59-.52 0-1.04.2-1.43.59L10.3 9.45l-7.72 7.72c-.78.78-.78 2.05 0 2.83L4 21.41c.39.39.9.59 1.41.59.51 0 1.02-.2 1.41-.59l7.78-7.78 2.81-2.81c.8-.78.8-2.07 0-2.86zM5.41 20L4 18.59l7.72-7.72 1.47 1.35L5.41 20z\"/>\n",
              "  </svg>\n",
              "      </button>\n",
              "      \n",
              "  <style>\n",
              "    .colab-df-container {\n",
              "      display:flex;\n",
              "      flex-wrap:wrap;\n",
              "      gap: 12px;\n",
              "    }\n",
              "\n",
              "    .colab-df-convert {\n",
              "      background-color: #E8F0FE;\n",
              "      border: none;\n",
              "      border-radius: 50%;\n",
              "      cursor: pointer;\n",
              "      display: none;\n",
              "      fill: #1967D2;\n",
              "      height: 32px;\n",
              "      padding: 0 0 0 0;\n",
              "      width: 32px;\n",
              "    }\n",
              "\n",
              "    .colab-df-convert:hover {\n",
              "      background-color: #E2EBFA;\n",
              "      box-shadow: 0px 1px 2px rgba(60, 64, 67, 0.3), 0px 1px 3px 1px rgba(60, 64, 67, 0.15);\n",
              "      fill: #174EA6;\n",
              "    }\n",
              "\n",
              "    [theme=dark] .colab-df-convert {\n",
              "      background-color: #3B4455;\n",
              "      fill: #D2E3FC;\n",
              "    }\n",
              "\n",
              "    [theme=dark] .colab-df-convert:hover {\n",
              "      background-color: #434B5C;\n",
              "      box-shadow: 0px 1px 3px 1px rgba(0, 0, 0, 0.15);\n",
              "      filter: drop-shadow(0px 1px 2px rgba(0, 0, 0, 0.3));\n",
              "      fill: #FFFFFF;\n",
              "    }\n",
              "  </style>\n",
              "\n",
              "      <script>\n",
              "        const buttonEl =\n",
              "          document.querySelector('#df-f1286134-023c-4de5-977e-a6f80c43a2f4 button.colab-df-convert');\n",
              "        buttonEl.style.display =\n",
              "          google.colab.kernel.accessAllowed ? 'block' : 'none';\n",
              "\n",
              "        async function convertToInteractive(key) {\n",
              "          const element = document.querySelector('#df-f1286134-023c-4de5-977e-a6f80c43a2f4');\n",
              "          const dataTable =\n",
              "            await google.colab.kernel.invokeFunction('convertToInteractive',\n",
              "                                                     [key], {});\n",
              "          if (!dataTable) return;\n",
              "\n",
              "          const docLinkHtml = 'Like what you see? Visit the ' +\n",
              "            '<a target=\"_blank\" href=https://colab.research.google.com/notebooks/data_table.ipynb>data table notebook</a>'\n",
              "            + ' to learn more about interactive tables.';\n",
              "          element.innerHTML = '';\n",
              "          dataTable['output_type'] = 'display_data';\n",
              "          await google.colab.output.renderOutput(dataTable, element);\n",
              "          const docLink = document.createElement('div');\n",
              "          docLink.innerHTML = docLinkHtml;\n",
              "          element.appendChild(docLink);\n",
              "        }\n",
              "      </script>\n",
              "    </div>\n",
              "  </div>\n",
              "  "
            ]
          },
          "metadata": {},
          "execution_count": 124
        }
      ]
    },
    {
      "cell_type": "code",
      "source": [
        "df.info()"
      ],
      "metadata": {
        "colab": {
          "base_uri": "https://localhost:8080/"
        },
        "id": "62HYfq0FwufF",
        "outputId": "4a1792b1-653a-4d9f-9b4c-818d617ea68a"
      },
      "execution_count": 125,
      "outputs": [
        {
          "output_type": "stream",
          "name": "stdout",
          "text": [
            "<class 'pandas.core.frame.DataFrame'>\n",
            "RangeIndex: 250 entries, 0 to 249\n",
            "Data columns (total 13 columns):\n",
            " #   Column       Non-Null Count  Dtype  \n",
            "---  ------       --------------  -----  \n",
            " 0   rank         250 non-null    int64  \n",
            " 1   name         250 non-null    object \n",
            " 2   year         250 non-null    int64  \n",
            " 3   rating       250 non-null    float64\n",
            " 4   genre        250 non-null    object \n",
            " 5   certificate  250 non-null    object \n",
            " 6   run_time     250 non-null    object \n",
            " 7   tagline      250 non-null    object \n",
            " 8   budget       250 non-null    object \n",
            " 9   box_office   250 non-null    object \n",
            " 10  casts        250 non-null    object \n",
            " 11  directors    250 non-null    object \n",
            " 12  writers      250 non-null    object \n",
            "dtypes: float64(1), int64(2), object(10)\n",
            "memory usage: 25.5+ KB\n"
          ]
        }
      ]
    },
    {
      "cell_type": "code",
      "source": [
        "df.isnull().sum()"
      ],
      "metadata": {
        "colab": {
          "base_uri": "https://localhost:8080/"
        },
        "id": "_sBpWxtXxHeV",
        "outputId": "224b48bf-b895-4595-c83c-fdb6d446481e"
      },
      "execution_count": 126,
      "outputs": [
        {
          "output_type": "execute_result",
          "data": {
            "text/plain": [
              "rank           0\n",
              "name           0\n",
              "year           0\n",
              "rating         0\n",
              "genre          0\n",
              "certificate    0\n",
              "run_time       0\n",
              "tagline        0\n",
              "budget         0\n",
              "box_office     0\n",
              "casts          0\n",
              "directors      0\n",
              "writers        0\n",
              "dtype: int64"
            ]
          },
          "metadata": {},
          "execution_count": 126
        }
      ]
    },
    {
      "cell_type": "code",
      "source": [
        "df['budget']=df[\"budget\"].str.replace(\"$\",\"\")"
      ],
      "metadata": {
        "id": "GZz-4y37xL4F"
      },
      "execution_count": null,
      "outputs": []
    },
    {
      "cell_type": "code",
      "source": [
        "df['budget']=pd.to_numeric(df['budget'],errors='coerce', downcast='float') / 1E9"
      ],
      "metadata": {
        "id": "mVxm5aZ031j4"
      },
      "execution_count": 128,
      "outputs": []
    },
    {
      "cell_type": "code",
      "source": [
        "sns.boxplot(df['budget'])"
      ],
      "metadata": {
        "colab": {
          "base_uri": "https://localhost:8080/",
          "height": 285
        },
        "id": "KSo4DojB5aY_",
        "outputId": "72ddaaae-0fa4-4a9e-aa97-a5f0dd66e21c"
      },
      "execution_count": 129,
      "outputs": [
        {
          "output_type": "execute_result",
          "data": {
            "text/plain": [
              "<Axes: >"
            ]
          },
          "metadata": {},
          "execution_count": 129
        },
        {
          "output_type": "display_data",
          "data": {
            "text/plain": [
              "<Figure size 432x288 with 1 Axes>"
            ],
            "image/png": "[encoded data removed]"
          },
          "metadata": {
            "needs_background": "light"
          }
        }
      ]
    },
    {
      "cell_type": "code",
      "source": [
        "pd.isna(df['budget'])"
      ],
      "metadata": {
        "colab": {
          "base_uri": "https://localhost:8080/"
        },
        "id": "4SPwGpMDHYXX",
        "outputId": "82733c91-9029-4884-b5e4-27d7d70d5366"
      },
      "execution_count": 130,
      "outputs": [
        {
          "output_type": "execute_result",
          "data": {
            "text/plain": [
              "0      False\n",
              "1      False\n",
              "2      False\n",
              "3      False\n",
              "4      False\n",
              "       ...  \n",
              "245    False\n",
              "246    False\n",
              "247     True\n",
              "248    False\n",
              "249    False\n",
              "Name: budget, Length: 250, dtype: bool"
            ]
          },
          "metadata": {},
          "execution_count": 130
        }
      ]
    },
    {
      "cell_type": "code",
      "source": [
        "df['budget'] = df['budget'].fillna(df['budget'].median())"
      ],
      "metadata": {
        "id": "kBQFZiO95lYo"
      },
      "execution_count": 131,
      "outputs": []
    },
    {
      "cell_type": "code",
      "source": [
        "df['budget'].nunique()"
      ],
      "metadata": {
        "colab": {
          "base_uri": "https://localhost:8080/"
        },
        "id": "ghLW2-Hd6htg",
        "outputId": "e4b8d748-c6eb-4a20-cd60-87f6c7958913"
      },
      "execution_count": 132,
      "outputs": [
        {
          "output_type": "execute_result",
          "data": {
            "text/plain": [
              "123"
            ]
          },
          "metadata": {},
          "execution_count": 132
        }
      ]
    },
    {
      "cell_type": "code",
      "source": [
        "df['box_office'] = df['box_office'].str.replace('$','')\n",
        "df['box_office']=pd.to_numeric(df['box_office'],errors='coerce', downcast='float') / 1E9"
      ],
      "metadata": {
        "id": "6nm-smxE6xUv"
      },
      "execution_count": null,
      "outputs": []
    },
    {
      "cell_type": "code",
      "source": [
        "pd.isna(df['box_office']).sum()"
      ],
      "metadata": {
        "colab": {
          "base_uri": "https://localhost:8080/"
        },
        "id": "3kLx0Ilm8c_4",
        "outputId": "625677ae-98fd-455e-f60b-c00e2c55f25b"
      },
      "execution_count": 134,
      "outputs": [
        {
          "output_type": "execute_result",
          "data": {
            "text/plain": [
              "33"
            ]
          },
          "metadata": {},
          "execution_count": 134
        }
      ]
    },
    {
      "cell_type": "code",
      "source": [
        "sns.boxplot(df['box_office'])"
      ],
      "metadata": {
        "colab": {
          "base_uri": "https://localhost:8080/",
          "height": 282
        },
        "id": "MLWbQeyt8hZx",
        "outputId": "9d7ac5fb-8e3f-4bbd-9bd5-5e5e3d92d0ea"
      },
      "execution_count": 135,
      "outputs": [
        {
          "output_type": "execute_result",
          "data": {
            "text/plain": [
              "<Axes: >"
            ]
          },
          "metadata": {},
          "execution_count": 135
        },
        {
          "output_type": "display_data",
          "data": {
            "text/plain": [
              "<Figure size 432x288 with 1 Axes>"
            ],
            "image/png": "[encoded data removed]"
          },
          "metadata": {
            "needs_background": "light"
          }
        }
      ]
    },
    {
      "cell_type": "code",
      "source": [
        "df['box_office']=df['box_office'].fillna(df['box_office'].median())"
      ],
      "metadata": {
        "id": "O0n6lipA8p5g"
      },
      "execution_count": 136,
      "outputs": []
    },
    {
      "cell_type": "code",
      "source": [
        "df['profit']=df['budget']-df['box_office']"
      ],
      "metadata": {
        "id": "7Q7UDgiI83ew"
      },
      "execution_count": 137,
      "outputs": []
    },
    {
      "cell_type": "code",
      "source": [
        "df.head(5)"
      ],
      "metadata": {
        "colab": {
          "base_uri": "https://localhost:8080/",
          "height": 441
        },
        "id": "w_wUyPzf9E65",
        "outputId": "8aa0bb76-f9e6-4b95-d58c-f6454729ffef"
      },
      "execution_count": 138,
      "outputs": [
        {
          "output_type": "execute_result",
          "data": {
            "text/plain": [
              "   rank                      name  year  rating               genre  \\\n",
              "0     1  The Shawshank Redemption  1994     9.3               Drama   \n",
              "1     2             The Godfather  1972     9.2         Crime,Drama   \n",
              "2     3           The Dark Knight  2008     9.0  Action,Crime,Drama   \n",
              "3     4     The Godfather Part II  1974     9.0         Crime,Drama   \n",
              "4     5              12 Angry Men  1957     9.0         Crime,Drama   \n",
              "\n",
              "  certificate run_time                                            tagline  \\\n",
              "0           R   2h 22m  Fear can hold you prisoner. Hope can set you f...   \n",
              "1           R   2h 55m                         An offer you can't refuse.   \n",
              "2       PG-13   2h 32m                                    Why So Serious?   \n",
              "3           R   3h 22m       All the power on earth can't change destiny.   \n",
              "4    Approved   1h 36m  Life Is In Their Hands -- Death Is On Their Mi...   \n",
              "\n",
              "    budget    box_office                                              casts  \\\n",
              "0  0.02500  2.888450e-02  Tim Robbins,Morgan Freeman,Bob Gunton,William ...   \n",
              "1  0.00600  2.503418e-01  Marlon Brando,Al Pacino,James Caan,Diane Keato...   \n",
              "2  0.18500  1.006234e+00  Christian Bale,Heath Ledger,Aaron Eckhart,Mich...   \n",
              "3  0.01300  4.796192e-02  Al Pacino,Robert De Niro,Robert Duvall,Diane K...   \n",
              "4  0.00035  9.550000e-07  Henry Fonda,Lee J. Cobb,Martin Balsam,John Fie...   \n",
              "\n",
              "              directors                                          writers  \\\n",
              "0        Frank Darabont                      Stephen King,Frank Darabont   \n",
              "1  Francis Ford Coppola                  Mario Puzo,Francis Ford Coppola   \n",
              "2     Christopher Nolan  Jonathan Nolan,Christopher Nolan,David S. Goyer   \n",
              "3  Francis Ford Coppola                  Francis Ford Coppola,Mario Puzo   \n",
              "4          Sidney Lumet                                    Reginald Rose   \n",
              "\n",
              "     profit  \n",
              "0 -0.003885  \n",
              "1 -0.244342  \n",
              "2 -0.821234  \n",
              "3 -0.034962  \n",
              "4  0.000349  "
            ],
            "text/html": [
              "\n",
              "  <div id=\"df-5c154997-8c5b-4a5a-8784-5f774017aea0\">\n",
              "    <div class=\"colab-df-container\">\n",
              "      <div>\n",
              "<style scoped>\n",
              "    .dataframe tbody tr th:only-of-type {\n",
              "        vertical-align: middle;\n",
              "    }\n",
              "\n",
              "    .dataframe tbody tr th {\n",
              "        vertical-align: top;\n",
              "    }\n",
              "\n",
              "    .dataframe thead th {\n",
              "        text-align: right;\n",
              "    }\n",
              "</style>\n",
              "<table border=\"1\" class=\"dataframe\">\n",
              "  <thead>\n",
              "    <tr style=\"text-align: right;\">\n",
              "      <th></th>\n",
              "      <th>rank</th>\n",
              "      <th>name</th>\n",
              "      <th>year</th>\n",
              "      <th>rating</th>\n",
              "      <th>genre</th>\n",
              "      <th>certificate</th>\n",
              "      <th>run_time</th>\n",
              "      <th>tagline</th>\n",
              "      <th>budget</th>\n",
              "      <th>box_office</th>\n",
              "      <th>casts</th>\n",
              "      <th>directors</th>\n",
              "      <th>writers</th>\n",
              "      <th>profit</th>\n",
              "    </tr>\n",
              "  </thead>\n",
              "  <tbody>\n",
              "    <tr>\n",
              "      <th>0</th>\n",
              "      <td>1</td>\n",
              "      <td>The Shawshank Redemption</td>\n",
              "      <td>1994</td>\n",
              "      <td>9.3</td>\n",
              "      <td>Drama</td>\n",
              "      <td>R</td>\n",
              "      <td>2h 22m</td>\n",
              "      <td>Fear can hold you prisoner. Hope can set you f...</td>\n",
              "      <td>0.02500</td>\n",
              "      <td>2.888450e-02</td>\n",
              "      <td>Tim Robbins,Morgan Freeman,Bob Gunton,William ...</td>\n",
              "      <td>Frank Darabont</td>\n",
              "      <td>Stephen King,Frank Darabont</td>\n",
              "      <td>-0.003885</td>\n",
              "    </tr>\n",
              "    <tr>\n",
              "      <th>1</th>\n",
              "      <td>2</td>\n",
              "      <td>The Godfather</td>\n",
              "      <td>1972</td>\n",
              "      <td>9.2</td>\n",
              "      <td>Crime,Drama</td>\n",
              "      <td>R</td>\n",
              "      <td>2h 55m</td>\n",
              "      <td>An offer you can't refuse.</td>\n",
              "      <td>0.00600</td>\n",
              "      <td>2.503418e-01</td>\n",
              "      <td>Marlon Brando,Al Pacino,James Caan,Diane Keato...</td>\n",
              "      <td>Francis Ford Coppola</td>\n",
              "      <td>Mario Puzo,Francis Ford Coppola</td>\n",
              "      <td>-0.244342</td>\n",
              "    </tr>\n",
              "    <tr>\n",
              "      <th>2</th>\n",
              "      <td>3</td>\n",
              "      <td>The Dark Knight</td>\n",
              "      <td>2008</td>\n",
              "      <td>9.0</td>\n",
              "      <td>Action,Crime,Drama</td>\n",
              "      <td>PG-13</td>\n",
              "      <td>2h 32m</td>\n",
              "      <td>Why So Serious?</td>\n",
              "      <td>0.18500</td>\n",
              "      <td>1.006234e+00</td>\n",
              "      <td>Christian Bale,Heath Ledger,Aaron Eckhart,Mich...</td>\n",
              "      <td>Christopher Nolan</td>\n",
              "      <td>Jonathan Nolan,Christopher Nolan,David S. Goyer</td>\n",
              "      <td>-0.821234</td>\n",
              "    </tr>\n",
              "    <tr>\n",
              "      <th>3</th>\n",
              "      <td>4</td>\n",
              "      <td>The Godfather Part II</td>\n",
              "      <td>1974</td>\n",
              "      <td>9.0</td>\n",
              "      <td>Crime,Drama</td>\n",
              "      <td>R</td>\n",
              "      <td>3h 22m</td>\n",
              "      <td>All the power on earth can't change destiny.</td>\n",
              "      <td>0.01300</td>\n",
              "      <td>4.796192e-02</td>\n",
              "      <td>Al Pacino,Robert De Niro,Robert Duvall,Diane K...</td>\n",
              "      <td>Francis Ford Coppola</td>\n",
              "      <td>Francis Ford Coppola,Mario Puzo</td>\n",
              "      <td>-0.034962</td>\n",
              "    </tr>\n",
              "    <tr>\n",
              "      <th>4</th>\n",
              "      <td>5</td>\n",
              "      <td>12 Angry Men</td>\n",
              "      <td>1957</td>\n",
              "      <td>9.0</td>\n",
              "      <td>Crime,Drama</td>\n",
              "      <td>Approved</td>\n",
              "      <td>1h 36m</td>\n",
              "      <td>Life Is In Their Hands -- Death Is On Their Mi...</td>\n",
              "      <td>0.00035</td>\n",
              "      <td>9.550000e-07</td>\n",
              "      <td>Henry Fonda,Lee J. Cobb,Martin Balsam,John Fie...</td>\n",
              "      <td>Sidney Lumet</td>\n",
              "      <td>Reginald Rose</td>\n",
              "      <td>0.000349</td>\n",
              "    </tr>\n",
              "  </tbody>\n",
              "</table>\n",
              "</div>\n",
              "      <button class=\"colab-df-convert\" onclick=\"convertToInteractive('df-5c154997-8c5b-4a5a-8784-5f774017aea0')\"\n",
              "              title=\"Convert this dataframe to an interactive table.\"\n",
              "              style=\"display:none;\">\n",
              "        \n",
              "  <svg xmlns=\"http://www.w3.org/2000/svg\" height=\"24px\"viewBox=\"0 0 24 24\"\n",
              "       width=\"24px\">\n",
              "    <path d=\"M0 0h24v24H0V0z\" fill=\"none\"/>\n",
              "    <path d=\"M18.56 5.44l.94 2.06.94-2.06 2.06-.94-2.06-.94-.94-2.06-.94 2.06-2.06.94zm-11 1L8.5 8.5l.94-2.06 2.06-.94-2.06-.94L8.5 2.5l-.94 2.06-2.06.94zm10 10l.94 2.06.94-2.06 2.06-.94-2.06-.94-.94-2.06-.94 2.06-2.06.94z\"/><path d=\"M17.41 7.96l-1.37-1.37c-.4-.4-.92-.59-1.43-.59-.52 0-1.04.2-1.43.59L10.3 9.45l-7.72 7.72c-.78.78-.78 2.05 0 2.83L4 21.41c.39.39.9.59 1.41.59.51 0 1.02-.2 1.41-.59l7.78-7.78 2.81-2.81c.8-.78.8-2.07 0-2.86zM5.41 20L4 18.59l7.72-7.72 1.47 1.35L5.41 20z\"/>\n",
              "  </svg>\n",
              "      </button>\n",
              "      \n",
              "  <style>\n",
              "    .colab-df-container {\n",
              "      display:flex;\n",
              "      flex-wrap:wrap;\n",
              "      gap: 12px;\n",
              "    }\n",
              "\n",
              "    .colab-df-convert {\n",
              "      background-color: #E8F0FE;\n",
              "      border: none;\n",
              "      border-radius: 50%;\n",
              "      cursor: pointer;\n",
              "      display: none;\n",
              "      fill: #1967D2;\n",
              "      height: 32px;\n",
              "      padding: 0 0 0 0;\n",
              "      width: 32px;\n",
              "    }\n",
              "\n",
              "    .colab-df-convert:hover {\n",
              "      background-color: #E2EBFA;\n",
              "      box-shadow: 0px 1px 2px rgba(60, 64, 67, 0.3), 0px 1px 3px 1px rgba(60, 64, 67, 0.15);\n",
              "      fill: #174EA6;\n",
              "    }\n",
              "\n",
              "    [theme=dark] .colab-df-convert {\n",
              "      background-color: #3B4455;\n",
              "      fill: #D2E3FC;\n",
              "    }\n",
              "\n",
              "    [theme=dark] .colab-df-convert:hover {\n",
              "      background-color: #434B5C;\n",
              "      box-shadow: 0px 1px 3px 1px rgba(0, 0, 0, 0.15);\n",
              "      filter: drop-shadow(0px 1px 2px rgba(0, 0, 0, 0.3));\n",
              "      fill: #FFFFFF;\n",
              "    }\n",
              "  </style>\n",
              "\n",
              "      <script>\n",
              "        const buttonEl =\n",
              "          document.querySelector('#df-5c154997-8c5b-4a5a-8784-5f774017aea0 button.colab-df-convert');\n",
              "        buttonEl.style.display =\n",
              "          google.colab.kernel.accessAllowed ? 'block' : 'none';\n",
              "\n",
              "        async function convertToInteractive(key) {\n",
              "          const element = document.querySelector('#df-5c154997-8c5b-4a5a-8784-5f774017aea0');\n",
              "          const dataTable =\n",
              "            await google.colab.kernel.invokeFunction('convertToInteractive',\n",
              "                                                     [key], {});\n",
              "          if (!dataTable) return;\n",
              "\n",
              "          const docLinkHtml = 'Like what you see? Visit the ' +\n",
              "            '<a target=\"_blank\" href=https://colab.research.google.com/notebooks/data_table.ipynb>data table notebook</a>'\n",
              "            + ' to learn more about interactive tables.';\n",
              "          element.innerHTML = '';\n",
              "          dataTable['output_type'] = 'display_data';\n",
              "          await google.colab.output.renderOutput(dataTable, element);\n",
              "          const docLink = document.createElement('div');\n",
              "          docLink.innerHTML = docLinkHtml;\n",
              "          element.appendChild(docLink);\n",
              "        }\n",
              "      </script>\n",
              "    </div>\n",
              "  </div>\n",
              "  "
            ]
          },
          "metadata": {},
          "execution_count": 138
        }
      ]
    },
    {
      "cell_type": "code",
      "source": [
        "pd.isna(df).any()"
      ],
      "metadata": {
        "colab": {
          "base_uri": "https://localhost:8080/"
        },
        "id": "_7VgRwfU9Gga",
        "outputId": "ccfb57f6-edee-4145-faec-6e2202eab812"
      },
      "execution_count": 139,
      "outputs": [
        {
          "output_type": "execute_result",
          "data": {
            "text/plain": [
              "rank           False\n",
              "name           False\n",
              "year           False\n",
              "rating         False\n",
              "genre          False\n",
              "certificate    False\n",
              "run_time       False\n",
              "tagline        False\n",
              "budget         False\n",
              "box_office     False\n",
              "casts          False\n",
              "directors      False\n",
              "writers        False\n",
              "profit         False\n",
              "dtype: bool"
            ]
          },
          "metadata": {},
          "execution_count": 139
        }
      ]
    },
    {
      "cell_type": "code",
      "source": [
        "plt.subplots(figsize=(20,10))\n",
        "sns.histplot(data=df,x='box_office',bins=20)\n"
      ],
      "metadata": {
        "colab": {
          "base_uri": "https://localhost:8080/",
          "height": 623
        },
        "id": "fFD6KNHO-YIJ",
        "outputId": "b313a8c5-cbea-4127-892d-00febd0f9d17"
      },
      "execution_count": 140,
      "outputs": [
        {
          "output_type": "execute_result",
          "data": {
            "text/plain": [
              "<Axes: xlabel='box_office', ylabel='Count'>"
            ]
          },
          "metadata": {},
          "execution_count": 140
        },
        {
          "output_type": "display_data",
          "data": {
            "text/plain": [
              "<Figure size 1440x720 with 1 Axes>"
            ],
            "image/png": "[encoded data removed]"
          },
          "metadata": {
            "needs_background": "light"
          }
        }
      ]
    },
    {
      "cell_type": "markdown",
      "source": [
        "We can see that most of the moivies got the box office collection around 1 Billion dollers"
      ],
      "metadata": {
        "id": "ckh-LIrQQJtU"
      }
    },
    {
      "cell_type": "code",
      "source": [
        "df[df['box_office']>2]"
      ],
      "metadata": {
        "colab": {
          "base_uri": "https://localhost:8080/",
          "height": 225
        },
        "id": "QIoggsGsCTYh",
        "outputId": "45c6503c-2e2a-488c-912c-fb97b68c383e"
      },
      "execution_count": 141,
      "outputs": [
        {
          "output_type": "execute_result",
          "data": {
            "text/plain": [
              "    rank                    name  year  rating                    genre  \\\n",
              "62    63  Avengers: Infinity War  2018     8.4  Action,Adventure,Sci-Fi   \n",
              "77    78       Avengers: Endgame  2019     8.4   Action,Adventure,Drama   \n",
              "\n",
              "   certificate run_time                                tagline  budget  \\\n",
              "62       PG-13   2h 29m  An entire universe. Once and for all.   0.321   \n",
              "77       PG-13    3h 1m                     Avenge the fallen.   0.356   \n",
              "\n",
              "    box_office                                              casts  \\\n",
              "62    2.052415  Robert Downey Jr.,Chris Hemsworth,Mark Ruffalo...   \n",
              "77    2.799439  Robert Downey Jr.,Chris Evans,Mark Ruffalo,Chr...   \n",
              "\n",
              "                  directors                                      writers  \\\n",
              "62  Anthony Russo,Joe Russo  Christopher Markus,Stephen McFeely,Stan Lee   \n",
              "77  Anthony Russo,Joe Russo  Christopher Markus,Stephen McFeely,Stan Lee   \n",
              "\n",
              "      profit  \n",
              "62 -1.731415  \n",
              "77 -2.443439  "
            ],
            "text/html": [
              "\n",
              "  <div id=\"df-6acd87b2-3fc2-4fc4-9c22-439e95d1c202\">\n",
              "    <div class=\"colab-df-container\">\n",
              "      <div>\n",
              "<style scoped>\n",
              "    .dataframe tbody tr th:only-of-type {\n",
              "        vertical-align: middle;\n",
              "    }\n",
              "\n",
              "    .dataframe tbody tr th {\n",
              "        vertical-align: top;\n",
              "    }\n",
              "\n",
              "    .dataframe thead th {\n",
              "        text-align: right;\n",
              "    }\n",
              "</style>\n",
              "<table border=\"1\" class=\"dataframe\">\n",
              "  <thead>\n",
              "    <tr style=\"text-align: right;\">\n",
              "      <th></th>\n",
              "      <th>rank</th>\n",
              "      <th>name</th>\n",
              "      <th>year</th>\n",
              "      <th>rating</th>\n",
              "      <th>genre</th>\n",
              "      <th>certificate</th>\n",
              "      <th>run_time</th>\n",
              "      <th>tagline</th>\n",
              "      <th>budget</th>\n",
              "      <th>box_office</th>\n",
              "      <th>casts</th>\n",
              "      <th>directors</th>\n",
              "      <th>writers</th>\n",
              "      <th>profit</th>\n",
              "    </tr>\n",
              "  </thead>\n",
              "  <tbody>\n",
              "    <tr>\n",
              "      <th>62</th>\n",
              "      <td>63</td>\n",
              "      <td>Avengers: Infinity War</td>\n",
              "      <td>2018</td>\n",
              "      <td>8.4</td>\n",
              "      <td>Action,Adventure,Sci-Fi</td>\n",
              "      <td>PG-13</td>\n",
              "      <td>2h 29m</td>\n",
              "      <td>An entire universe. Once and for all.</td>\n",
              "      <td>0.321</td>\n",
              "      <td>2.052415</td>\n",
              "      <td>Robert Downey Jr.,Chris Hemsworth,Mark Ruffalo...</td>\n",
              "      <td>Anthony Russo,Joe Russo</td>\n",
              "      <td>Christopher Markus,Stephen McFeely,Stan Lee</td>\n",
              "      <td>-1.731415</td>\n",
              "    </tr>\n",
              "    <tr>\n",
              "      <th>77</th>\n",
              "      <td>78</td>\n",
              "      <td>Avengers: Endgame</td>\n",
              "      <td>2019</td>\n",
              "      <td>8.4</td>\n",
              "      <td>Action,Adventure,Drama</td>\n",
              "      <td>PG-13</td>\n",
              "      <td>3h 1m</td>\n",
              "      <td>Avenge the fallen.</td>\n",
              "      <td>0.356</td>\n",
              "      <td>2.799439</td>\n",
              "      <td>Robert Downey Jr.,Chris Evans,Mark Ruffalo,Chr...</td>\n",
              "      <td>Anthony Russo,Joe Russo</td>\n",
              "      <td>Christopher Markus,Stephen McFeely,Stan Lee</td>\n",
              "      <td>-2.443439</td>\n",
              "    </tr>\n",
              "  </tbody>\n",
              "</table>\n",
              "</div>\n",
              "      <button class=\"colab-df-convert\" onclick=\"convertToInteractive('df-6acd87b2-3fc2-4fc4-9c22-439e95d1c202')\"\n",
              "              title=\"Convert this dataframe to an interactive table.\"\n",
              "              style=\"display:none;\">\n",
              "        \n",
              "  <svg xmlns=\"http://www.w3.org/2000/svg\" height=\"24px\"viewBox=\"0 0 24 24\"\n",
              "       width=\"24px\">\n",
              "    <path d=\"M0 0h24v24H0V0z\" fill=\"none\"/>\n",
              "    <path d=\"M18.56 5.44l.94 2.06.94-2.06 2.06-.94-2.06-.94-.94-2.06-.94 2.06-2.06.94zm-11 1L8.5 8.5l.94-2.06 2.06-.94-2.06-.94L8.5 2.5l-.94 2.06-2.06.94zm10 10l.94 2.06.94-2.06 2.06-.94-2.06-.94-.94-2.06-.94 2.06-2.06.94z\"/><path d=\"M17.41 7.96l-1.37-1.37c-.4-.4-.92-.59-1.43-.59-.52 0-1.04.2-1.43.59L10.3 9.45l-7.72 7.72c-.78.78-.78 2.05 0 2.83L4 21.41c.39.39.9.59 1.41.59.51 0 1.02-.2 1.41-.59l7.78-7.78 2.81-2.81c.8-.78.8-2.07 0-2.86zM5.41 20L4 18.59l7.72-7.72 1.47 1.35L5.41 20z\"/>\n",
              "  </svg>\n",
              "      </button>\n",
              "      \n",
              "  <style>\n",
              "    .colab-df-container {\n",
              "      display:flex;\n",
              "      flex-wrap:wrap;\n",
              "      gap: 12px;\n",
              "    }\n",
              "\n",
              "    .colab-df-convert {\n",
              "      background-color: #E8F0FE;\n",
              "      border: none;\n",
              "      border-radius: 50%;\n",
              "      cursor: pointer;\n",
              "      display: none;\n",
              "      fill: #1967D2;\n",
              "      height: 32px;\n",
              "      padding: 0 0 0 0;\n",
              "      width: 32px;\n",
              "    }\n",
              "\n",
              "    .colab-df-convert:hover {\n",
              "      background-color: #E2EBFA;\n",
              "      box-shadow: 0px 1px 2px rgba(60, 64, 67, 0.3), 0px 1px 3px 1px rgba(60, 64, 67, 0.15);\n",
              "      fill: #174EA6;\n",
              "    }\n",
              "\n",
              "    [theme=dark] .colab-df-convert {\n",
              "      background-color: #3B4455;\n",
              "      fill: #D2E3FC;\n",
              "    }\n",
              "\n",
              "    [theme=dark] .colab-df-convert:hover {\n",
              "      background-color: #434B5C;\n",
              "      box-shadow: 0px 1px 3px 1px rgba(0, 0, 0, 0.15);\n",
              "      filter: drop-shadow(0px 1px 2px rgba(0, 0, 0, 0.3));\n",
              "      fill: #FFFFFF;\n",
              "    }\n",
              "  </style>\n",
              "\n",
              "      <script>\n",
              "        const buttonEl =\n",
              "          document.querySelector('#df-6acd87b2-3fc2-4fc4-9c22-439e95d1c202 button.colab-df-convert');\n",
              "        buttonEl.style.display =\n",
              "          google.colab.kernel.accessAllowed ? 'block' : 'none';\n",
              "\n",
              "        async function convertToInteractive(key) {\n",
              "          const element = document.querySelector('#df-6acd87b2-3fc2-4fc4-9c22-439e95d1c202');\n",
              "          const dataTable =\n",
              "            await google.colab.kernel.invokeFunction('convertToInteractive',\n",
              "                                                     [key], {});\n",
              "          if (!dataTable) return;\n",
              "\n",
              "          const docLinkHtml = 'Like what you see? Visit the ' +\n",
              "            '<a target=\"_blank\" href=https://colab.research.google.com/notebooks/data_table.ipynb>data table notebook</a>'\n",
              "            + ' to learn more about interactive tables.';\n",
              "          element.innerHTML = '';\n",
              "          dataTable['output_type'] = 'display_data';\n",
              "          await google.colab.output.renderOutput(dataTable, element);\n",
              "          const docLink = document.createElement('div');\n",
              "          docLink.innerHTML = docLinkHtml;\n",
              "          element.appendChild(docLink);\n",
              "        }\n",
              "      </script>\n",
              "    </div>\n",
              "  </div>\n",
              "  "
            ]
          },
          "metadata": {},
          "execution_count": 141
        }
      ]
    },
    {
      "cell_type": "code",
      "source": [
        "real_gen = \"\"\n",
        "for i in df['genre']:\n",
        "    real_gen = real_gen+\",\"+i\n",
        "all_gen = real_gen.split(',')[1:]\n",
        "unique_genres = list(set(all_gen))\n",
        "data = []\n",
        "for i in unique_genres:\n",
        "    c = 0\n",
        "    for j in df['genre']:\n",
        "        if i in j:\n",
        "            c+=1\n",
        "    data.append([i, c])"
      ],
      "metadata": {
        "id": "-gdc5ljnJv5e"
      },
      "execution_count": 142,
      "outputs": []
    },
    {
      "cell_type": "code",
      "source": [
        "genre=pd.DataFrame(data,columns=['type','count'])"
      ],
      "metadata": {
        "id": "3SpcIprHKGUG"
      },
      "execution_count": 143,
      "outputs": []
    },
    {
      "cell_type": "code",
      "source": [
        "genre"
      ],
      "metadata": {
        "colab": {
          "base_uri": "https://localhost:8080/",
          "height": 708
        },
        "id": "KIBe9dN-LYaW",
        "outputId": "c5ede3e2-e964-488f-834d-5eaa00b831e3"
      },
      "execution_count": 144,
      "outputs": [
        {
          "output_type": "execute_result",
          "data": {
            "text/plain": [
              "         type  count\n",
              "0     Mystery     31\n",
              "1     Romance     23\n",
              "2   Animation     23\n",
              "3     Fantasy     14\n",
              "4   Adventure     60\n",
              "5     History     10\n",
              "6       Music      5\n",
              "7      Comedy     45\n",
              "8      Sci-Fi     20\n",
              "9      Family     13\n",
              "10      Crime     51\n",
              "11    Musical      1\n",
              "12      Drama    177\n",
              "13   Thriller     30\n",
              "14  Biography     29\n",
              "15        War     23\n",
              "16     Horror      5\n",
              "17     Action     50\n",
              "18      Sport      5\n",
              "19    Western      7\n",
              "20  Film-Noir      4"
            ],
            "text/html": [
              "\n",
              "  <div id=\"df-c207808d-9cf3-4544-86c2-baadec89cd28\">\n",
              "    <div class=\"colab-df-container\">\n",
              "      <div>\n",
              "<style scoped>\n",
              "    .dataframe tbody tr th:only-of-type {\n",
              "        vertical-align: middle;\n",
              "    }\n",
              "\n",
              "    .dataframe tbody tr th {\n",
              "        vertical-align: top;\n",
              "    }\n",
              "\n",
              "    .dataframe thead th {\n",
              "        text-align: right;\n",
              "    }\n",
              "</style>\n",
              "<table border=\"1\" class=\"dataframe\">\n",
              "  <thead>\n",
              "    <tr style=\"text-align: right;\">\n",
              "      <th></th>\n",
              "      <th>type</th>\n",
              "      <th>count</th>\n",
              "    </tr>\n",
              "  </thead>\n",
              "  <tbody>\n",
              "    <tr>\n",
              "      <th>0</th>\n",
              "      <td>Mystery</td>\n",
              "      <td>31</td>\n",
              "    </tr>\n",
              "    <tr>\n",
              "      <th>1</th>\n",
              "      <td>Romance</td>\n",
              "      <td>23</td>\n",
              "    </tr>\n",
              "    <tr>\n",
              "      <th>2</th>\n",
              "      <td>Animation</td>\n",
              "      <td>23</td>\n",
              "    </tr>\n",
              "    <tr>\n",
              "      <th>3</th>\n",
              "      <td>Fantasy</td>\n",
              "      <td>14</td>\n",
              "    </tr>\n",
              "    <tr>\n",
              "      <th>4</th>\n",
              "      <td>Adventure</td>\n",
              "      <td>60</td>\n",
              "    </tr>\n",
              "    <tr>\n",
              "      <th>5</th>\n",
              "      <td>History</td>\n",
              "      <td>10</td>\n",
              "    </tr>\n",
              "    <tr>\n",
              "      <th>6</th>\n",
              "      <td>Music</td>\n",
              "      <td>5</td>\n",
              "    </tr>\n",
              "    <tr>\n",
              "      <th>7</th>\n",
              "      <td>Comedy</td>\n",
              "      <td>45</td>\n",
              "    </tr>\n",
              "    <tr>\n",
              "      <th>8</th>\n",
              "      <td>Sci-Fi</td>\n",
              "      <td>20</td>\n",
              "    </tr>\n",
              "    <tr>\n",
              "      <th>9</th>\n",
              "      <td>Family</td>\n",
              "      <td>13</td>\n",
              "    </tr>\n",
              "    <tr>\n",
              "      <th>10</th>\n",
              "      <td>Crime</td>\n",
              "      <td>51</td>\n",
              "    </tr>\n",
              "    <tr>\n",
              "      <th>11</th>\n",
              "      <td>Musical</td>\n",
              "      <td>1</td>\n",
              "    </tr>\n",
              "    <tr>\n",
              "      <th>12</th>\n",
              "      <td>Drama</td>\n",
              "      <td>177</td>\n",
              "    </tr>\n",
              "    <tr>\n",
              "      <th>13</th>\n",
              "      <td>Thriller</td>\n",
              "      <td>30</td>\n",
              "    </tr>\n",
              "    <tr>\n",
              "      <th>14</th>\n",
              "      <td>Biography</td>\n",
              "      <td>29</td>\n",
              "    </tr>\n",
              "    <tr>\n",
              "      <th>15</th>\n",
              "      <td>War</td>\n",
              "      <td>23</td>\n",
              "    </tr>\n",
              "    <tr>\n",
              "      <th>16</th>\n",
              "      <td>Horror</td>\n",
              "      <td>5</td>\n",
              "    </tr>\n",
              "    <tr>\n",
              "      <th>17</th>\n",
              "      <td>Action</td>\n",
              "      <td>50</td>\n",
              "    </tr>\n",
              "    <tr>\n",
              "      <th>18</th>\n",
              "      <td>Sport</td>\n",
              "      <td>5</td>\n",
              "    </tr>\n",
              "    <tr>\n",
              "      <th>19</th>\n",
              "      <td>Western</td>\n",
              "      <td>7</td>\n",
              "    </tr>\n",
              "    <tr>\n",
              "      <th>20</th>\n",
              "      <td>Film-Noir</td>\n",
              "      <td>4</td>\n",
              "    </tr>\n",
              "  </tbody>\n",
              "</table>\n",
              "</div>\n",
              "      <button class=\"colab-df-convert\" onclick=\"convertToInteractive('df-c207808d-9cf3-4544-86c2-baadec89cd28')\"\n",
              "              title=\"Convert this dataframe to an interactive table.\"\n",
              "              style=\"display:none;\">\n",
              "        \n",
              "  <svg xmlns=\"http://www.w3.org/2000/svg\" height=\"24px\"viewBox=\"0 0 24 24\"\n",
              "       width=\"24px\">\n",
              "    <path d=\"M0 0h24v24H0V0z\" fill=\"none\"/>\n",
              "    <path d=\"M18.56 5.44l.94 2.06.94-2.06 2.06-.94-2.06-.94-.94-2.06-.94 2.06-2.06.94zm-11 1L8.5 8.5l.94-2.06 2.06-.94-2.06-.94L8.5 2.5l-.94 2.06-2.06.94zm10 10l.94 2.06.94-2.06 2.06-.94-2.06-.94-.94-2.06-.94 2.06-2.06.94z\"/><path d=\"M17.41 7.96l-1.37-1.37c-.4-.4-.92-.59-1.43-.59-.52 0-1.04.2-1.43.59L10.3 9.45l-7.72 7.72c-.78.78-.78 2.05 0 2.83L4 21.41c.39.39.9.59 1.41.59.51 0 1.02-.2 1.41-.59l7.78-7.78 2.81-2.81c.8-.78.8-2.07 0-2.86zM5.41 20L4 18.59l7.72-7.72 1.47 1.35L5.41 20z\"/>\n",
              "  </svg>\n",
              "      </button>\n",
              "      \n",
              "  <style>\n",
              "    .colab-df-container {\n",
              "      display:flex;\n",
              "      flex-wrap:wrap;\n",
              "      gap: 12px;\n",
              "    }\n",
              "\n",
              "    .colab-df-convert {\n",
              "      background-color: #E8F0FE;\n",
              "      border: none;\n",
              "      border-radius: 50%;\n",
              "      cursor: pointer;\n",
              "      display: none;\n",
              "      fill: #1967D2;\n",
              "      height: 32px;\n",
              "      padding: 0 0 0 0;\n",
              "      width: 32px;\n",
              "    }\n",
              "\n",
              "    .colab-df-convert:hover {\n",
              "      background-color: #E2EBFA;\n",
              "      box-shadow: 0px 1px 2px rgba(60, 64, 67, 0.3), 0px 1px 3px 1px rgba(60, 64, 67, 0.15);\n",
              "      fill: #174EA6;\n",
              "    }\n",
              "\n",
              "    [theme=dark] .colab-df-convert {\n",
              "      background-color: #3B4455;\n",
              "      fill: #D2E3FC;\n",
              "    }\n",
              "\n",
              "    [theme=dark] .colab-df-convert:hover {\n",
              "      background-color: #434B5C;\n",
              "      box-shadow: 0px 1px 3px 1px rgba(0, 0, 0, 0.15);\n",
              "      filter: drop-shadow(0px 1px 2px rgba(0, 0, 0, 0.3));\n",
              "      fill: #FFFFFF;\n",
              "    }\n",
              "  </style>\n",
              "\n",
              "      <script>\n",
              "        const buttonEl =\n",
              "          document.querySelector('#df-c207808d-9cf3-4544-86c2-baadec89cd28 button.colab-df-convert');\n",
              "        buttonEl.style.display =\n",
              "          google.colab.kernel.accessAllowed ? 'block' : 'none';\n",
              "\n",
              "        async function convertToInteractive(key) {\n",
              "          const element = document.querySelector('#df-c207808d-9cf3-4544-86c2-baadec89cd28');\n",
              "          const dataTable =\n",
              "            await google.colab.kernel.invokeFunction('convertToInteractive',\n",
              "                                                     [key], {});\n",
              "          if (!dataTable) return;\n",
              "\n",
              "          const docLinkHtml = 'Like what you see? Visit the ' +\n",
              "            '<a target=\"_blank\" href=https://colab.research.google.com/notebooks/data_table.ipynb>data table notebook</a>'\n",
              "            + ' to learn more about interactive tables.';\n",
              "          element.innerHTML = '';\n",
              "          dataTable['output_type'] = 'display_data';\n",
              "          await google.colab.output.renderOutput(dataTable, element);\n",
              "          const docLink = document.createElement('div');\n",
              "          docLink.innerHTML = docLinkHtml;\n",
              "          element.appendChild(docLink);\n",
              "        }\n",
              "      </script>\n",
              "    </div>\n",
              "  </div>\n",
              "  "
            ]
          },
          "metadata": {},
          "execution_count": 144
        }
      ]
    },
    {
      "cell_type": "code",
      "source": [
        "genre.sort_values(by=\"count\",ascending=False,inplace=True)"
      ],
      "metadata": {
        "id": "np1vOvefLe7F"
      },
      "execution_count": 145,
      "outputs": []
    },
    {
      "cell_type": "code",
      "source": [
        "genre=genre.head(10)"
      ],
      "metadata": {
        "id": "TJn4DRGu91Rj"
      },
      "execution_count": 146,
      "outputs": []
    },
    {
      "cell_type": "code",
      "source": [
        "plt.subplots(figsize=(10,7))\n",
        "sns.barplot(data=genre,x='type',y='count',color='black',palette=(\"cubehelix\"))\n"
      ],
      "metadata": {
        "colab": {
          "base_uri": "https://localhost:8080/",
          "height": 459
        },
        "id": "purE31gqLrQV",
        "outputId": "82e5ccf3-642d-4197-ea4f-aa646510e050"
      },
      "execution_count": 147,
      "outputs": [
        {
          "output_type": "execute_result",
          "data": {
            "text/plain": [
              "<Axes: xlabel='type', ylabel='count'>"
            ]
          },
          "metadata": {},
          "execution_count": 147
        },
        {
          "output_type": "display_data",
          "data": {
            "text/plain": [
              "<Figure size 720x504 with 1 Axes>"
            ],
            "image/png": "[encoded data removed]"
          },
          "metadata": {
            "needs_background": "light"
          }
        }
      ]
    },
    {
      "cell_type": "markdown",
      "source": [
        "Most movies are Drama based follwed by Adventure"
      ],
      "metadata": {
        "id": "NhJ-9pqgREz0"
      }
    },
    {
      "cell_type": "code",
      "source": [
        "data=set(df['certificate'])"
      ],
      "metadata": {
        "id": "4vg3YKnoRMxP"
      },
      "execution_count": 148,
      "outputs": []
    },
    {
      "cell_type": "code",
      "source": [
        "rating=data"
      ],
      "metadata": {
        "id": "wBx5ASoB-tnL"
      },
      "execution_count": 149,
      "outputs": []
    },
    {
      "cell_type": "code",
      "source": [
        "certi=[]\n",
        "for i in data:\n",
        "  c=0\n",
        "  for j in df['certificate']:\n",
        "    if j==i:\n",
        "      c+=1\n",
        "  certi.append([i,c]) "
      ],
      "metadata": {
        "id": "VBCRRdHFRtz3"
      },
      "execution_count": 150,
      "outputs": []
    },
    {
      "cell_type": "code",
      "source": [
        "certi"
      ],
      "metadata": {
        "colab": {
          "base_uri": "https://localhost:8080/"
        },
        "id": "jUm-VrKdSXVe",
        "outputId": "e22043c1-0d5e-4105-b795-456dd2d7b16c"
      },
      "execution_count": 151,
      "outputs": [
        {
          "output_type": "execute_result",
          "data": {
            "text/plain": [
              "[['X', 1],\n",
              " ['TV-PG', 1],\n",
              " ['G', 19],\n",
              " ['Approved', 14],\n",
              " ['TV-MA', 1],\n",
              " ['R', 97],\n",
              " ['PG-13', 35],\n",
              " ['Not Available', 1],\n",
              " ['13+', 1],\n",
              " ['PG', 37],\n",
              " ['GP', 1],\n",
              " ['18+', 1],\n",
              " ['Passed', 16],\n",
              " ['Not Rated', 24],\n",
              " ['Unrated', 1]]"
            ]
          },
          "metadata": {},
          "execution_count": 151
        }
      ]
    },
    {
      "cell_type": "code",
      "source": [
        "data=pd.DataFrame(certi,columns=['type','count'])"
      ],
      "metadata": {
        "id": "3EBFjY_bS5zY"
      },
      "execution_count": 152,
      "outputs": []
    },
    {
      "cell_type": "code",
      "source": [
        "data.sort_values(by='count',ascending=False,inplace=True)\n",
        "data=data.head(6)"
      ],
      "metadata": {
        "id": "wLdVEQOYTUQm"
      },
      "execution_count": 153,
      "outputs": []
    },
    {
      "cell_type": "code",
      "source": [
        "sns.barplot(data,x='type',y='count',palette=\"magma\")"
      ],
      "metadata": {
        "colab": {
          "base_uri": "https://localhost:8080/",
          "height": 296
        },
        "id": "gSUVEFzFTW6o",
        "outputId": "56e6bb86-978e-46c8-bde7-06d4e85308a0"
      },
      "execution_count": 154,
      "outputs": [
        {
          "output_type": "execute_result",
          "data": {
            "text/plain": [
              "<Axes: xlabel='type', ylabel='count'>"
            ]
          },
          "metadata": {},
          "execution_count": 154
        },
        {
          "output_type": "display_data",
          "data": {
            "text/plain": [
              "<Figure size 432x288 with 1 Axes>"
            ],
            "image/png": "[encoded data removed]"
          },
          "metadata": {
            "needs_background": "light"
          }
        }
      ]
    },
    {
      "cell_type": "markdown",
      "source": [
        "R-Rated Moives are mostly likes by the people"
      ],
      "metadata": {
        "id": "uaobWMyeRMS0"
      }
    },
    {
      "cell_type": "code",
      "source": [
        "data=set(df['directors'])"
      ],
      "metadata": {
        "id": "2ctYNPZxTsDf"
      },
      "execution_count": 155,
      "outputs": []
    },
    {
      "cell_type": "code",
      "source": [
        "data"
      ],
      "metadata": {
        "id": "achEIs6Y1hhY",
        "colab": {
          "base_uri": "https://localhost:8080/"
        },
        "outputId": "bc9f6f8c-0f12-404f-fdbd-40687db47135"
      },
      "execution_count": 156,
      "outputs": [
        {
          "output_type": "execute_result",
          "data": {
            "text/plain": [
              "{'Aamir Khan,Amole Gupte(uncredited)',\n",
              " 'Adam Elliot',\n",
              " 'Akira Kurosawa',\n",
              " 'Alejandro G. Iñárritu',\n",
              " 'Alfred Hitchcock',\n",
              " 'Andrew Stanton',\n",
              " 'Andrew Stanton,Lee Unkrich(co-director)',\n",
              " 'Anthony Russo,Joe Russo',\n",
              " 'Asghar Farhadi',\n",
              " 'Billy Wilder',\n",
              " 'Bob Persichetti,Peter Ramsey,Rodney Rothman',\n",
              " 'Bong Joon Ho',\n",
              " 'Brad Bird',\n",
              " 'Brad Bird,Jan Pinkava(co-director)',\n",
              " 'Brian De Palma',\n",
              " 'Bryan Singer',\n",
              " 'Buster Keaton',\n",
              " 'Carl Theodor Dreyer',\n",
              " 'Carol Reed',\n",
              " 'Charles Chaplin',\n",
              " 'Christopher Nolan',\n",
              " 'Clint Eastwood',\n",
              " 'Clyde Bruckman,Buster Keaton',\n",
              " 'Curtis Hanson',\n",
              " 'Damien Chazelle',\n",
              " 'Damián Szifron',\n",
              " 'Danny Boyle',\n",
              " 'Darren Aronofsky',\n",
              " 'David Fincher',\n",
              " 'David Lean',\n",
              " 'David Lynch',\n",
              " 'David Yates',\n",
              " 'Dean DeBlois,Chris Sanders',\n",
              " 'Denis Villeneuve',\n",
              " 'Elem Klimov',\n",
              " 'Elia Kazan',\n",
              " 'Ernst Lubitsch',\n",
              " 'Ethan Coen,Joel Coen',\n",
              " 'Fernando Meirelles,Kátia Lund(co-director)',\n",
              " 'Florian Henckel von Donnersmarck',\n",
              " 'Florian Zeller',\n",
              " 'Francis Ford Coppola',\n",
              " 'Frank Capra',\n",
              " 'Frank Darabont',\n",
              " 'François Truffaut',\n",
              " 'Fritz Lang',\n",
              " \"Gavin O'Connor\",\n",
              " 'George Lucas',\n",
              " 'George Miller',\n",
              " 'George Roy Hill',\n",
              " 'Gillo Pontecorvo',\n",
              " 'Giuseppe Tornatore',\n",
              " 'Gore Verbinski',\n",
              " 'Guillermo del Toro',\n",
              " 'Gus Van Sant',\n",
              " 'Guy Ritchie',\n",
              " 'Harold Ramis',\n",
              " 'Hayao Miyazaki',\n",
              " 'Henri-Georges Clouzot',\n",
              " 'Ingmar Bergman',\n",
              " 'Irvin Kershner',\n",
              " 'Isao Takahata',\n",
              " 'James Cameron',\n",
              " 'James Mangold',\n",
              " 'James McTeigue',\n",
              " 'Jean-Pierre Jeunet',\n",
              " 'Jim Sheridan',\n",
              " 'Joel Coen,Ethan Coen(uncredited)',\n",
              " 'John Carpenter',\n",
              " 'John Ford',\n",
              " 'John G. Avildsen',\n",
              " 'John Huston',\n",
              " 'John Lasseter',\n",
              " 'John McTiernan',\n",
              " 'John Sturges',\n",
              " 'Jon Watts',\n",
              " 'Jonathan Demme',\n",
              " 'Joseph Kosinski',\n",
              " 'Joseph L. Mankiewicz',\n",
              " 'Juan José Campanella',\n",
              " 'Kevin Costner',\n",
              " 'Lana Wachowski,Lilly Wachowski',\n",
              " 'Lasse Hallström',\n",
              " 'Lee Unkrich',\n",
              " 'Lee Unkrich,Adrian Molina(co-directed by)',\n",
              " 'Lenny Abrahamson',\n",
              " 'Luc Besson',\n",
              " 'M. Night Shyamalan',\n",
              " 'Majid Majidi',\n",
              " 'Makoto Shinkai',\n",
              " 'Martin McDonagh',\n",
              " 'Martin Scorsese',\n",
              " 'Masaki Kobayashi',\n",
              " 'Mathieu Kassovitz',\n",
              " 'Mel Gibson',\n",
              " 'Michael Cimino',\n",
              " 'Michael Curtiz',\n",
              " 'Michael Mann',\n",
              " 'Michel Gondry',\n",
              " 'Milos Forman',\n",
              " 'Nadine Labaki',\n",
              " 'Nitesh Tiwari',\n",
              " 'Oliver Hirschbiegel',\n",
              " 'Oliver Stone',\n",
              " 'Olivier Nakache,Éric Toledano',\n",
              " 'Orson Welles',\n",
              " 'Park Chan-wook',\n",
              " 'Paul Thomas Anderson',\n",
              " 'Pete Docter,Bob Peterson(co-director)',\n",
              " 'Pete Docter,David Silverman(co-director),Lee Unkrich(co-director)',\n",
              " 'Pete Docter,Ronnie Del Carmen(co-director)',\n",
              " 'Peter Farrelly',\n",
              " 'Peter Jackson',\n",
              " 'Peter Weir',\n",
              " 'Quentin Tarantino',\n",
              " 'Rajkumar Hirani',\n",
              " 'Richard Attenborough',\n",
              " 'Richard Linklater',\n",
              " 'Richard Marquand',\n",
              " 'Ridley Scott',\n",
              " 'Rob Reiner',\n",
              " 'Robert Mulligan',\n",
              " 'Robert Wise',\n",
              " 'Robert Zemeckis',\n",
              " 'Roberto Benigni',\n",
              " 'Roger Allers,Rob Minkoff',\n",
              " 'Roman Polanski',\n",
              " 'Ron Clements,John Musker',\n",
              " 'Ron Howard',\n",
              " 'Sam Mendes',\n",
              " 'Satyajit Ray',\n",
              " 'Sean Penn',\n",
              " 'Sergio Leone',\n",
              " 'Sergio Pablos,Carlos Martínez López(co-director)',\n",
              " 'Sidney Lumet',\n",
              " 'Stanley Donen,Gene Kelly',\n",
              " 'Stanley Kramer',\n",
              " 'Stanley Kubrick',\n",
              " 'Steve McQueen',\n",
              " 'Steven Spielberg',\n",
              " 'Stuart Rosenberg',\n",
              " 'T.J. Gnanavel',\n",
              " 'Tate Taylor',\n",
              " 'Terry George',\n",
              " 'Terry Gilliam,Terry Jones',\n",
              " 'Terry Jones',\n",
              " 'Thomas Kail',\n",
              " 'Thomas Vinterberg',\n",
              " 'Todd Phillips',\n",
              " 'Tom McCarthy',\n",
              " 'Tony Kaye',\n",
              " 'Victor Fleming,George Cukor(uncredited),Mervyn LeRoy(uncredited)',\n",
              " 'Victor Fleming,George Cukor(uncredited),Sam Wood(uncredited)',\n",
              " 'Vittorio De Sica',\n",
              " 'Wes Anderson',\n",
              " 'William Friedkin',\n",
              " 'William Wyler',\n",
              " 'Wolfgang Petersen',\n",
              " 'Yasujirô Ozu',\n",
              " 'Çagan Irmak'}"
            ]
          },
          "metadata": {},
          "execution_count": 156
        }
      ]
    },
    {
      "cell_type": "code",
      "source": [
        "director=[]\n",
        "for i in data:\n",
        "  c=0\n",
        "  for j in df['directors']:\n",
        "    if j==i:\n",
        "      c+=1\n",
        "  director.append([i,c]) \n"
      ],
      "metadata": {
        "id": "HWzV0Ip81h-w"
      },
      "execution_count": 157,
      "outputs": []
    },
    {
      "cell_type": "code",
      "source": [
        "director=pd.DataFrame(director,columns=['name','count'])"
      ],
      "metadata": {
        "id": "MJR21cAp2cgw"
      },
      "execution_count": 158,
      "outputs": []
    },
    {
      "cell_type": "code",
      "source": [
        "director.sort_values(by='count',ascending=False,inplace=True)"
      ],
      "metadata": {
        "id": "U9FVYc142ds3"
      },
      "execution_count": 159,
      "outputs": []
    },
    {
      "cell_type": "code",
      "source": [
        "director=director.head(10)"
      ],
      "metadata": {
        "id": "RIOTk_xJ2-kJ"
      },
      "execution_count": 160,
      "outputs": []
    },
    {
      "cell_type": "code",
      "source": [
        "plt.subplots(figsize=(15,5))\n",
        "sns.barplot(data=director,x='name',y='count',palette=\"rainbow\")\n"
      ],
      "metadata": {
        "colab": {
          "base_uri": "https://localhost:8080/",
          "height": 351
        },
        "id": "QdKpsedc2_w4",
        "outputId": "00d016d5-4542-4383-b100-e458dce515f2"
      },
      "execution_count": 161,
      "outputs": [
        {
          "output_type": "execute_result",
          "data": {
            "text/plain": [
              "<Axes: xlabel='name', ylabel='count'>"
            ]
          },
          "metadata": {},
          "execution_count": 161
        },
        {
          "output_type": "display_data",
          "data": {
            "text/plain": [
              "<Figure size 1080x360 with 1 Axes>"
            ],
            "image/png": "[encoded data removed]"
          },
          "metadata": {
            "needs_background": "light"
          }
        }
      ]
    },
    {
      "cell_type": "markdown",
      "source": [
        "Chistoper Nolan,Martin Scorsese and some are the most sucessfull Directors over the time\n"
      ],
      "metadata": {
        "id": "HVdROUXdRRmS"
      }
    },
    {
      "cell_type": "code",
      "source": [
        "sns.scatterplot(data=df,x='year',y='rating')"
      ],
      "metadata": {
        "colab": {
          "base_uri": "https://localhost:8080/",
          "height": 296
        },
        "id": "_mI-asbP3dOw",
        "outputId": "ee183b82-470a-426a-b515-bd90bb91f48b"
      },
      "execution_count": 162,
      "outputs": [
        {
          "output_type": "execute_result",
          "data": {
            "text/plain": [
              "<Axes: xlabel='year', ylabel='rating'>"
            ]
          },
          "metadata": {},
          "execution_count": 162
        },
        {
          "output_type": "display_data",
          "data": {
            "text/plain": [
              "<Figure size 432x288 with 1 Axes>"
            ],
            "image/png": "[encoded data removed]"
          },
          "metadata": {
            "needs_background": "light"
          }
        }
      ]
    },
    {
      "cell_type": "code",
      "source": [
        "sns.scatterplot(data=df,x='year',y='run_time')\n",
        "plt.yticks([0,30,60,90])"
      ],
      "metadata": {
        "colab": {
          "base_uri": "https://localhost:8080/",
          "height": 418
        },
        "id": "6zBcWDHk7qOB",
        "outputId": "f4fd1f01-978f-4763-e9af-5f873d9223c4"
      },
      "execution_count": 163,
      "outputs": [
        {
          "output_type": "execute_result",
          "data": {
            "text/plain": [
              "([<matplotlib.axis.YTick at 0x7f6cd293fb80>,\n",
              "  <matplotlib.axis.YTick at 0x7f6c9581e400>,\n",
              "  <matplotlib.axis.YTick at 0x7f6c95942880>,\n",
              "  <matplotlib.axis.YTick at 0x7f6c95485130>],\n",
              " [Text(0, 0, '2h 22m'),\n",
              "  Text(0, 30, '1h 28m'),\n",
              "  Text(0, 60, '2h 50m'),\n",
              "  Text(0, 90, '1h 41m')])"
            ]
          },
          "metadata": {},
          "execution_count": 163
        },
        {
          "output_type": "display_data",
          "data": {
            "text/plain": [
              "<Figure size 432x288 with 1 Axes>"
            ],
            "image/png": "[encoded data removed]"
          },
          "metadata": {
            "needs_background": "light"
          }
        }
      ]
    },
    {
      "cell_type": "markdown",
      "source": [
        "Duration of the movies increases over the Time"
      ],
      "metadata": {
        "id": "9AQe0zl5RhtR"
      }
    },
    {
      "cell_type": "code",
      "source": [
        "rating"
      ],
      "metadata": {
        "colab": {
          "base_uri": "https://localhost:8080/"
        },
        "id": "V-p1T2YNAU1N",
        "outputId": "c75147fc-a3b1-49cb-9ec9-a41e8dddbd75"
      },
      "execution_count": 164,
      "outputs": [
        {
          "output_type": "execute_result",
          "data": {
            "text/plain": [
              "{'13+',\n",
              " '18+',\n",
              " 'Approved',\n",
              " 'G',\n",
              " 'GP',\n",
              " 'Not Available',\n",
              " 'Not Rated',\n",
              " 'PG',\n",
              " 'PG-13',\n",
              " 'Passed',\n",
              " 'R',\n",
              " 'TV-MA',\n",
              " 'TV-PG',\n",
              " 'Unrated',\n",
              " 'X'}"
            ]
          },
          "metadata": {},
          "execution_count": 164
        }
      ]
    },
    {
      "cell_type": "code",
      "source": [
        "rating_box=[]\n",
        "for i in rating:\n",
        "  count=0\n",
        "  rs=0\n",
        "  for j in df['certificate']:\n",
        "    if i==j:\n",
        "      budget = df.loc[df['certificate'] == i, 'box_office'].iloc[0]\n",
        "      rs=rs+budget\n",
        "      count+=1\n",
        "  rs=rs/count\n",
        "  rating_box.append([i,rs])  "
      ],
      "metadata": {
        "id": "qM6qMgRm8CXR"
      },
      "execution_count": 165,
      "outputs": []
    },
    {
      "cell_type": "code",
      "source": [
        "rating_box=pd.DataFrame(rating_box,columns=['type','avg'])"
      ],
      "metadata": {
        "id": "rHZN0Tdl_VKK"
      },
      "execution_count": 166,
      "outputs": []
    },
    {
      "cell_type": "code",
      "source": [
        "rating_box.sort_values(by='avg',ascending=False,inplace=True)"
      ],
      "metadata": {
        "id": "IetikWr2AwND"
      },
      "execution_count": 167,
      "outputs": []
    },
    {
      "cell_type": "code",
      "source": [
        "rating_box=rating_box.head(10)\n",
        "rating_box\n"
      ],
      "metadata": {
        "colab": {
          "base_uri": "https://localhost:8080/",
          "height": 363
        },
        "id": "QIkGVuHHBFjB",
        "outputId": "22cbea2f-ac67-44c5-e693-6122680388e6"
      },
      "execution_count": 168,
      "outputs": [
        {
          "output_type": "execute_result",
          "data": {
            "text/plain": [
              "             type       avg\n",
              "6           PG-13  1.006234\n",
              "2               G  0.968512\n",
              "9              PG  0.538375\n",
              "11            18+  0.109115\n",
              "1           TV-PG  0.074037\n",
              "4           TV-MA  0.074037\n",
              "8             13+  0.052287\n",
              "5               R  0.028885\n",
              "0               X  0.026960\n",
              "7   Not Available  0.011488"
            ],
            "text/html": [
              "\n",
              "  <div id=\"df-5164d000-bd38-41a7-a86d-754ecff9f1c2\">\n",
              "    <div class=\"colab-df-container\">\n",
              "      <div>\n",
              "<style scoped>\n",
              "    .dataframe tbody tr th:only-of-type {\n",
              "        vertical-align: middle;\n",
              "    }\n",
              "\n",
              "    .dataframe tbody tr th {\n",
              "        vertical-align: top;\n",
              "    }\n",
              "\n",
              "    .dataframe thead th {\n",
              "        text-align: right;\n",
              "    }\n",
              "</style>\n",
              "<table border=\"1\" class=\"dataframe\">\n",
              "  <thead>\n",
              "    <tr style=\"text-align: right;\">\n",
              "      <th></th>\n",
              "      <th>type</th>\n",
              "      <th>avg</th>\n",
              "    </tr>\n",
              "  </thead>\n",
              "  <tbody>\n",
              "    <tr>\n",
              "      <th>6</th>\n",
              "      <td>PG-13</td>\n",
              "      <td>1.006234</td>\n",
              "    </tr>\n",
              "    <tr>\n",
              "      <th>2</th>\n",
              "      <td>G</td>\n",
              "      <td>0.968512</td>\n",
              "    </tr>\n",
              "    <tr>\n",
              "      <th>9</th>\n",
              "      <td>PG</td>\n",
              "      <td>0.538375</td>\n",
              "    </tr>\n",
              "    <tr>\n",
              "      <th>11</th>\n",
              "      <td>18+</td>\n",
              "      <td>0.109115</td>\n",
              "    </tr>\n",
              "    <tr>\n",
              "      <th>1</th>\n",
              "      <td>TV-PG</td>\n",
              "      <td>0.074037</td>\n",
              "    </tr>\n",
              "    <tr>\n",
              "      <th>4</th>\n",
              "      <td>TV-MA</td>\n",
              "      <td>0.074037</td>\n",
              "    </tr>\n",
              "    <tr>\n",
              "      <th>8</th>\n",
              "      <td>13+</td>\n",
              "      <td>0.052287</td>\n",
              "    </tr>\n",
              "    <tr>\n",
              "      <th>5</th>\n",
              "      <td>R</td>\n",
              "      <td>0.028885</td>\n",
              "    </tr>\n",
              "    <tr>\n",
              "      <th>0</th>\n",
              "      <td>X</td>\n",
              "      <td>0.026960</td>\n",
              "    </tr>\n",
              "    <tr>\n",
              "      <th>7</th>\n",
              "      <td>Not Available</td>\n",
              "      <td>0.011488</td>\n",
              "    </tr>\n",
              "  </tbody>\n",
              "</table>\n",
              "</div>\n",
              "      <button class=\"colab-df-convert\" onclick=\"convertToInteractive('df-5164d000-bd38-41a7-a86d-754ecff9f1c2')\"\n",
              "              title=\"Convert this dataframe to an interactive table.\"\n",
              "              style=\"display:none;\">\n",
              "        \n",
              "  <svg xmlns=\"http://www.w3.org/2000/svg\" height=\"24px\"viewBox=\"0 0 24 24\"\n",
              "       width=\"24px\">\n",
              "    <path d=\"M0 0h24v24H0V0z\" fill=\"none\"/>\n",
              "    <path d=\"M18.56 5.44l.94 2.06.94-2.06 2.06-.94-2.06-.94-.94-2.06-.94 2.06-2.06.94zm-11 1L8.5 8.5l.94-2.06 2.06-.94-2.06-.94L8.5 2.5l-.94 2.06-2.06.94zm10 10l.94 2.06.94-2.06 2.06-.94-2.06-.94-.94-2.06-.94 2.06-2.06.94z\"/><path d=\"M17.41 7.96l-1.37-1.37c-.4-.4-.92-.59-1.43-.59-.52 0-1.04.2-1.43.59L10.3 9.45l-7.72 7.72c-.78.78-.78 2.05 0 2.83L4 21.41c.39.39.9.59 1.41.59.51 0 1.02-.2 1.41-.59l7.78-7.78 2.81-2.81c.8-.78.8-2.07 0-2.86zM5.41 20L4 18.59l7.72-7.72 1.47 1.35L5.41 20z\"/>\n",
              "  </svg>\n",
              "      </button>\n",
              "      \n",
              "  <style>\n",
              "    .colab-df-container {\n",
              "      display:flex;\n",
              "      flex-wrap:wrap;\n",
              "      gap: 12px;\n",
              "    }\n",
              "\n",
              "    .colab-df-convert {\n",
              "      background-color: #E8F0FE;\n",
              "      border: none;\n",
              "      border-radius: 50%;\n",
              "      cursor: pointer;\n",
              "      display: none;\n",
              "      fill: #1967D2;\n",
              "      height: 32px;\n",
              "      padding: 0 0 0 0;\n",
              "      width: 32px;\n",
              "    }\n",
              "\n",
              "    .colab-df-convert:hover {\n",
              "      background-color: #E2EBFA;\n",
              "      box-shadow: 0px 1px 2px rgba(60, 64, 67, 0.3), 0px 1px 3px 1px rgba(60, 64, 67, 0.15);\n",
              "      fill: #174EA6;\n",
              "    }\n",
              "\n",
              "    [theme=dark] .colab-df-convert {\n",
              "      background-color: #3B4455;\n",
              "      fill: #D2E3FC;\n",
              "    }\n",
              "\n",
              "    [theme=dark] .colab-df-convert:hover {\n",
              "      background-color: #434B5C;\n",
              "      box-shadow: 0px 1px 3px 1px rgba(0, 0, 0, 0.15);\n",
              "      filter: drop-shadow(0px 1px 2px rgba(0, 0, 0, 0.3));\n",
              "      fill: #FFFFFF;\n",
              "    }\n",
              "  </style>\n",
              "\n",
              "      <script>\n",
              "        const buttonEl =\n",
              "          document.querySelector('#df-5164d000-bd38-41a7-a86d-754ecff9f1c2 button.colab-df-convert');\n",
              "        buttonEl.style.display =\n",
              "          google.colab.kernel.accessAllowed ? 'block' : 'none';\n",
              "\n",
              "        async function convertToInteractive(key) {\n",
              "          const element = document.querySelector('#df-5164d000-bd38-41a7-a86d-754ecff9f1c2');\n",
              "          const dataTable =\n",
              "            await google.colab.kernel.invokeFunction('convertToInteractive',\n",
              "                                                     [key], {});\n",
              "          if (!dataTable) return;\n",
              "\n",
              "          const docLinkHtml = 'Like what you see? Visit the ' +\n",
              "            '<a target=\"_blank\" href=https://colab.research.google.com/notebooks/data_table.ipynb>data table notebook</a>'\n",
              "            + ' to learn more about interactive tables.';\n",
              "          element.innerHTML = '';\n",
              "          dataTable['output_type'] = 'display_data';\n",
              "          await google.colab.output.renderOutput(dataTable, element);\n",
              "          const docLink = document.createElement('div');\n",
              "          docLink.innerHTML = docLinkHtml;\n",
              "          element.appendChild(docLink);\n",
              "        }\n",
              "      </script>\n",
              "    </div>\n",
              "  </div>\n",
              "  "
            ]
          },
          "metadata": {},
          "execution_count": 168
        }
      ]
    },
    {
      "cell_type": "code",
      "source": [
        "plt.subplots(figsize=(15,5))\n",
        "ax=sns.barplot(data=rating_box,x='type',y='avg',palette=\"magma\")\n",
        "ax.set(xlabel='Type of Certification', ylabel='Average_Box_Office_Collection_in_Billion')"
      ],
      "metadata": {
        "colab": {
          "base_uri": "https://localhost:8080/",
          "height": 369
        },
        "id": "OTrBSnrxBYpU",
        "outputId": "1a857811-16c3-440e-b624-8bc072d42671"
      },
      "execution_count": 169,
      "outputs": [
        {
          "output_type": "execute_result",
          "data": {
            "text/plain": [
              "[Text(0.5, 0, 'Type of Certification'),\n",
              " Text(0, 0.5, 'Average_Box_Office_Collection_in_Billion')]"
            ]
          },
          "metadata": {},
          "execution_count": 169
        },
        {
          "output_type": "display_data",
          "data": {
            "text/plain": [
              "<Figure size 1080x360 with 1 Axes>"
            ],
            "image/png": "[encoded data removed]"
          },
          "metadata": {
            "needs_background": "light"
          }
        }
      ]
    },
    {
      "cell_type": "code",
      "source": [
        "profit=[]\n",
        "for i in rating:\n",
        "  count=0\n",
        "  rs=0\n",
        "  for j in df['certificate']:\n",
        "    if i==j:\n",
        "      pro=df.loc[df['certificate']==i,'profit'].iloc[0]\n",
        "      rs=rs+pro\n",
        "      count+=1\n",
        "  rs=rs/count\n",
        "  profit.append([i,rs])    "
      ],
      "metadata": {
        "id": "b5SKez36BjPM"
      },
      "execution_count": 170,
      "outputs": []
    },
    {
      "cell_type": "code",
      "source": [
        "profit=pd.DataFrame(profit,columns=['type','avg'])"
      ],
      "metadata": {
        "id": "jcZdP2ZhEm57"
      },
      "execution_count": 171,
      "outputs": []
    },
    {
      "cell_type": "code",
      "source": [
        "profit.sort_values(by='avg',ascending=False,inplace=True)\n",
        "profit=profit.head(7)\n",
        "profit"
      ],
      "metadata": {
        "colab": {
          "base_uri": "https://localhost:8080/",
          "height": 269
        },
        "id": "Mq_Hclq4EtOa",
        "outputId": "69d95bf8-dc8f-4515-db8b-98cfcd742783"
      },
      "execution_count": 172,
      "outputs": [
        {
          "output_type": "execute_result",
          "data": {
            "text/plain": [
              "             type       avg\n",
              "13      Not Rated  0.124654\n",
              "7   Not Available  0.003512\n",
              "10             GP  0.003200\n",
              "12         Passed  0.001452\n",
              "3        Approved  0.000349\n",
              "14        Unrated -0.002890\n",
              "5               R -0.003885"
            ],
            "text/html": [
              "\n",
              "  <div id=\"df-c6c3949a-8c91-472b-87a2-beaddbed03bc\">\n",
              "    <div class=\"colab-df-container\">\n",
              "      <div>\n",
              "<style scoped>\n",
              "    .dataframe tbody tr th:only-of-type {\n",
              "        vertical-align: middle;\n",
              "    }\n",
              "\n",
              "    .dataframe tbody tr th {\n",
              "        vertical-align: top;\n",
              "    }\n",
              "\n",
              "    .dataframe thead th {\n",
              "        text-align: right;\n",
              "    }\n",
              "</style>\n",
              "<table border=\"1\" class=\"dataframe\">\n",
              "  <thead>\n",
              "    <tr style=\"text-align: right;\">\n",
              "      <th></th>\n",
              "      <th>type</th>\n",
              "      <th>avg</th>\n",
              "    </tr>\n",
              "  </thead>\n",
              "  <tbody>\n",
              "    <tr>\n",
              "      <th>13</th>\n",
              "      <td>Not Rated</td>\n",
              "      <td>0.124654</td>\n",
              "    </tr>\n",
              "    <tr>\n",
              "      <th>7</th>\n",
              "      <td>Not Available</td>\n",
              "      <td>0.003512</td>\n",
              "    </tr>\n",
              "    <tr>\n",
              "      <th>10</th>\n",
              "      <td>GP</td>\n",
              "      <td>0.003200</td>\n",
              "    </tr>\n",
              "    <tr>\n",
              "      <th>12</th>\n",
              "      <td>Passed</td>\n",
              "      <td>0.001452</td>\n",
              "    </tr>\n",
              "    <tr>\n",
              "      <th>3</th>\n",
              "      <td>Approved</td>\n",
              "      <td>0.000349</td>\n",
              "    </tr>\n",
              "    <tr>\n",
              "      <th>14</th>\n",
              "      <td>Unrated</td>\n",
              "      <td>-0.002890</td>\n",
              "    </tr>\n",
              "    <tr>\n",
              "      <th>5</th>\n",
              "      <td>R</td>\n",
              "      <td>-0.003885</td>\n",
              "    </tr>\n",
              "  </tbody>\n",
              "</table>\n",
              "</div>\n",
              "      <button class=\"colab-df-convert\" onclick=\"convertToInteractive('df-c6c3949a-8c91-472b-87a2-beaddbed03bc')\"\n",
              "              title=\"Convert this dataframe to an interactive table.\"\n",
              "              style=\"display:none;\">\n",
              "        \n",
              "  <svg xmlns=\"http://www.w3.org/2000/svg\" height=\"24px\"viewBox=\"0 0 24 24\"\n",
              "       width=\"24px\">\n",
              "    <path d=\"M0 0h24v24H0V0z\" fill=\"none\"/>\n",
              "    <path d=\"M18.56 5.44l.94 2.06.94-2.06 2.06-.94-2.06-.94-.94-2.06-.94 2.06-2.06.94zm-11 1L8.5 8.5l.94-2.06 2.06-.94-2.06-.94L8.5 2.5l-.94 2.06-2.06.94zm10 10l.94 2.06.94-2.06 2.06-.94-2.06-.94-.94-2.06-.94 2.06-2.06.94z\"/><path d=\"M17.41 7.96l-1.37-1.37c-.4-.4-.92-.59-1.43-.59-.52 0-1.04.2-1.43.59L10.3 9.45l-7.72 7.72c-.78.78-.78 2.05 0 2.83L4 21.41c.39.39.9.59 1.41.59.51 0 1.02-.2 1.41-.59l7.78-7.78 2.81-2.81c.8-.78.8-2.07 0-2.86zM5.41 20L4 18.59l7.72-7.72 1.47 1.35L5.41 20z\"/>\n",
              "  </svg>\n",
              "      </button>\n",
              "      \n",
              "  <style>\n",
              "    .colab-df-container {\n",
              "      display:flex;\n",
              "      flex-wrap:wrap;\n",
              "      gap: 12px;\n",
              "    }\n",
              "\n",
              "    .colab-df-convert {\n",
              "      background-color: #E8F0FE;\n",
              "      border: none;\n",
              "      border-radius: 50%;\n",
              "      cursor: pointer;\n",
              "      display: none;\n",
              "      fill: #1967D2;\n",
              "      height: 32px;\n",
              "      padding: 0 0 0 0;\n",
              "      width: 32px;\n",
              "    }\n",
              "\n",
              "    .colab-df-convert:hover {\n",
              "      background-color: #E2EBFA;\n",
              "      box-shadow: 0px 1px 2px rgba(60, 64, 67, 0.3), 0px 1px 3px 1px rgba(60, 64, 67, 0.15);\n",
              "      fill: #174EA6;\n",
              "    }\n",
              "\n",
              "    [theme=dark] .colab-df-convert {\n",
              "      background-color: #3B4455;\n",
              "      fill: #D2E3FC;\n",
              "    }\n",
              "\n",
              "    [theme=dark] .colab-df-convert:hover {\n",
              "      background-color: #434B5C;\n",
              "      box-shadow: 0px 1px 3px 1px rgba(0, 0, 0, 0.15);\n",
              "      filter: drop-shadow(0px 1px 2px rgba(0, 0, 0, 0.3));\n",
              "      fill: #FFFFFF;\n",
              "    }\n",
              "  </style>\n",
              "\n",
              "      <script>\n",
              "        const buttonEl =\n",
              "          document.querySelector('#df-c6c3949a-8c91-472b-87a2-beaddbed03bc button.colab-df-convert');\n",
              "        buttonEl.style.display =\n",
              "          google.colab.kernel.accessAllowed ? 'block' : 'none';\n",
              "\n",
              "        async function convertToInteractive(key) {\n",
              "          const element = document.querySelector('#df-c6c3949a-8c91-472b-87a2-beaddbed03bc');\n",
              "          const dataTable =\n",
              "            await google.colab.kernel.invokeFunction('convertToInteractive',\n",
              "                                                     [key], {});\n",
              "          if (!dataTable) return;\n",
              "\n",
              "          const docLinkHtml = 'Like what you see? Visit the ' +\n",
              "            '<a target=\"_blank\" href=https://colab.research.google.com/notebooks/data_table.ipynb>data table notebook</a>'\n",
              "            + ' to learn more about interactive tables.';\n",
              "          element.innerHTML = '';\n",
              "          dataTable['output_type'] = 'display_data';\n",
              "          await google.colab.output.renderOutput(dataTable, element);\n",
              "          const docLink = document.createElement('div');\n",
              "          docLink.innerHTML = docLinkHtml;\n",
              "          element.appendChild(docLink);\n",
              "        }\n",
              "      </script>\n",
              "    </div>\n",
              "  </div>\n",
              "  "
            ]
          },
          "metadata": {},
          "execution_count": 172
        }
      ]
    },
    {
      "cell_type": "code",
      "source": [
        "year=set(df['year'])\n"
      ],
      "metadata": {
        "id": "yyKKSOvkGhb7"
      },
      "execution_count": 173,
      "outputs": []
    },
    {
      "cell_type": "code",
      "source": [
        "frq=[]\n",
        "for i in year:\n",
        "  count=0\n",
        "  for j in df['year']:\n",
        "    if i==j:\n",
        "      count+=1\n",
        "  frq.append([i,count])    "
      ],
      "metadata": {
        "id": "si0Jbv3bGt4A"
      },
      "execution_count": 174,
      "outputs": []
    },
    {
      "cell_type": "code",
      "source": [
        "frq=pd.DataFrame(frq,columns=['year','frq'])\n",
        "frq.sort_values(by='year',ascending=False,inplace=True)\n",
        "fr=frq.head(10)"
      ],
      "metadata": {
        "id": "cIO49azaHbQG"
      },
      "execution_count": 175,
      "outputs": []
    },
    {
      "cell_type": "code",
      "source": [
        "fr"
      ],
      "metadata": {
        "colab": {
          "base_uri": "https://localhost:8080/",
          "height": 363
        },
        "id": "4oeQDykGIW4V",
        "outputId": "062ed35c-e104-4cfb-ad88-f88a70c35917"
      },
      "execution_count": 176,
      "outputs": [
        {
          "output_type": "execute_result",
          "data": {
            "text/plain": [
              "    year  frq\n",
              "85  2022    1\n",
              "84  2021    2\n",
              "83  2020    2\n",
              "82  2019    6\n",
              "81  2018    4\n",
              "80  2017    3\n",
              "79  2016    4\n",
              "78  2015    4\n",
              "77  2014    5\n",
              "76  2013    4"
            ],
            "text/html": [
              "\n",
              "  <div id=\"df-ccabfac8-70c8-4933-a7de-64d822b349d5\">\n",
              "    <div class=\"colab-df-container\">\n",
              "      <div>\n",
              "<style scoped>\n",
              "    .dataframe tbody tr th:only-of-type {\n",
              "        vertical-align: middle;\n",
              "    }\n",
              "\n",
              "    .dataframe tbody tr th {\n",
              "        vertical-align: top;\n",
              "    }\n",
              "\n",
              "    .dataframe thead th {\n",
              "        text-align: right;\n",
              "    }\n",
              "</style>\n",
              "<table border=\"1\" class=\"dataframe\">\n",
              "  <thead>\n",
              "    <tr style=\"text-align: right;\">\n",
              "      <th></th>\n",
              "      <th>year</th>\n",
              "      <th>frq</th>\n",
              "    </tr>\n",
              "  </thead>\n",
              "  <tbody>\n",
              "    <tr>\n",
              "      <th>85</th>\n",
              "      <td>2022</td>\n",
              "      <td>1</td>\n",
              "    </tr>\n",
              "    <tr>\n",
              "      <th>84</th>\n",
              "      <td>2021</td>\n",
              "      <td>2</td>\n",
              "    </tr>\n",
              "    <tr>\n",
              "      <th>83</th>\n",
              "      <td>2020</td>\n",
              "      <td>2</td>\n",
              "    </tr>\n",
              "    <tr>\n",
              "      <th>82</th>\n",
              "      <td>2019</td>\n",
              "      <td>6</td>\n",
              "    </tr>\n",
              "    <tr>\n",
              "      <th>81</th>\n",
              "      <td>2018</td>\n",
              "      <td>4</td>\n",
              "    </tr>\n",
              "    <tr>\n",
              "      <th>80</th>\n",
              "      <td>2017</td>\n",
              "      <td>3</td>\n",
              "    </tr>\n",
              "    <tr>\n",
              "      <th>79</th>\n",
              "      <td>2016</td>\n",
              "      <td>4</td>\n",
              "    </tr>\n",
              "    <tr>\n",
              "      <th>78</th>\n",
              "      <td>2015</td>\n",
              "      <td>4</td>\n",
              "    </tr>\n",
              "    <tr>\n",
              "      <th>77</th>\n",
              "      <td>2014</td>\n",
              "      <td>5</td>\n",
              "    </tr>\n",
              "    <tr>\n",
              "      <th>76</th>\n",
              "      <td>2013</td>\n",
              "      <td>4</td>\n",
              "    </tr>\n",
              "  </tbody>\n",
              "</table>\n",
              "</div>\n",
              "      <button class=\"colab-df-convert\" onclick=\"convertToInteractive('df-ccabfac8-70c8-4933-a7de-64d822b349d5')\"\n",
              "              title=\"Convert this dataframe to an interactive table.\"\n",
              "              style=\"display:none;\">\n",
              "        \n",
              "  <svg xmlns=\"http://www.w3.org/2000/svg\" height=\"24px\"viewBox=\"0 0 24 24\"\n",
              "       width=\"24px\">\n",
              "    <path d=\"M0 0h24v24H0V0z\" fill=\"none\"/>\n",
              "    <path d=\"M18.56 5.44l.94 2.06.94-2.06 2.06-.94-2.06-.94-.94-2.06-.94 2.06-2.06.94zm-11 1L8.5 8.5l.94-2.06 2.06-.94-2.06-.94L8.5 2.5l-.94 2.06-2.06.94zm10 10l.94 2.06.94-2.06 2.06-.94-2.06-.94-.94-2.06-.94 2.06-2.06.94z\"/><path d=\"M17.41 7.96l-1.37-1.37c-.4-.4-.92-.59-1.43-.59-.52 0-1.04.2-1.43.59L10.3 9.45l-7.72 7.72c-.78.78-.78 2.05 0 2.83L4 21.41c.39.39.9.59 1.41.59.51 0 1.02-.2 1.41-.59l7.78-7.78 2.81-2.81c.8-.78.8-2.07 0-2.86zM5.41 20L4 18.59l7.72-7.72 1.47 1.35L5.41 20z\"/>\n",
              "  </svg>\n",
              "      </button>\n",
              "      \n",
              "  <style>\n",
              "    .colab-df-container {\n",
              "      display:flex;\n",
              "      flex-wrap:wrap;\n",
              "      gap: 12px;\n",
              "    }\n",
              "\n",
              "    .colab-df-convert {\n",
              "      background-color: #E8F0FE;\n",
              "      border: none;\n",
              "      border-radius: 50%;\n",
              "      cursor: pointer;\n",
              "      display: none;\n",
              "      fill: #1967D2;\n",
              "      height: 32px;\n",
              "      padding: 0 0 0 0;\n",
              "      width: 32px;\n",
              "    }\n",
              "\n",
              "    .colab-df-convert:hover {\n",
              "      background-color: #E2EBFA;\n",
              "      box-shadow: 0px 1px 2px rgba(60, 64, 67, 0.3), 0px 1px 3px 1px rgba(60, 64, 67, 0.15);\n",
              "      fill: #174EA6;\n",
              "    }\n",
              "\n",
              "    [theme=dark] .colab-df-convert {\n",
              "      background-color: #3B4455;\n",
              "      fill: #D2E3FC;\n",
              "    }\n",
              "\n",
              "    [theme=dark] .colab-df-convert:hover {\n",
              "      background-color: #434B5C;\n",
              "      box-shadow: 0px 1px 3px 1px rgba(0, 0, 0, 0.15);\n",
              "      filter: drop-shadow(0px 1px 2px rgba(0, 0, 0, 0.3));\n",
              "      fill: #FFFFFF;\n",
              "    }\n",
              "  </style>\n",
              "\n",
              "      <script>\n",
              "        const buttonEl =\n",
              "          document.querySelector('#df-ccabfac8-70c8-4933-a7de-64d822b349d5 button.colab-df-convert');\n",
              "        buttonEl.style.display =\n",
              "          google.colab.kernel.accessAllowed ? 'block' : 'none';\n",
              "\n",
              "        async function convertToInteractive(key) {\n",
              "          const element = document.querySelector('#df-ccabfac8-70c8-4933-a7de-64d822b349d5');\n",
              "          const dataTable =\n",
              "            await google.colab.kernel.invokeFunction('convertToInteractive',\n",
              "                                                     [key], {});\n",
              "          if (!dataTable) return;\n",
              "\n",
              "          const docLinkHtml = 'Like what you see? Visit the ' +\n",
              "            '<a target=\"_blank\" href=https://colab.research.google.com/notebooks/data_table.ipynb>data table notebook</a>'\n",
              "            + ' to learn more about interactive tables.';\n",
              "          element.innerHTML = '';\n",
              "          dataTable['output_type'] = 'display_data';\n",
              "          await google.colab.output.renderOutput(dataTable, element);\n",
              "          const docLink = document.createElement('div');\n",
              "          docLink.innerHTML = docLinkHtml;\n",
              "          element.appendChild(docLink);\n",
              "        }\n",
              "      </script>\n",
              "    </div>\n",
              "  </div>\n",
              "  "
            ]
          },
          "metadata": {},
          "execution_count": 176
        }
      ]
    },
    {
      "cell_type": "code",
      "source": [
        "plt.subplots(figsize=(12,5))\n",
        "ax=sns.barplot(data=fr,x='year',y='frq',palette=\"rainbow\")\n",
        "ax.set(xlabel=\"YEAR_OF_RELEASE\",ylabel=\"COUNT_OF_MOVIES_IN TOP_250_LIST\")\n",
        "for i in ax.containers:\n",
        "    ax.bar_label(i,)"
      ],
      "metadata": {
        "colab": {
          "base_uri": "https://localhost:8080/",
          "height": 335
        },
        "id": "HDpIwvotHcHg",
        "outputId": "0ea8d081-279e-4d7e-f5be-e3e1c32d1cbc"
      },
      "execution_count": 177,
      "outputs": [
        {
          "output_type": "display_data",
          "data": {
            "text/plain": [
              "<Figure size 864x360 with 1 Axes>"
            ],
            "image/png": "[encoded data removed]"
          },
          "metadata": {
            "needs_background": "light"
          }
        }
      ]
    },
    {
      "cell_type": "markdown",
      "source": [
        "1995 is most success full year Which has 8 movies out of top 250 movies over the Time.\n"
      ],
      "metadata": {
        "id": "RdVUhj6OR1dK"
      }
    },
    {
      "cell_type": "code",
      "source": [],
      "metadata": {
        "id": "AAUfsHwrITsI"
      },
      "execution_count": 177,
      "outputs": []
    }
  ]
}